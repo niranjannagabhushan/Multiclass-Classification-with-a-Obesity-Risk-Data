{
 "cells": [
  {
   "cell_type": "code",
   "execution_count": 1,
   "id": "a5c5f1ae",
   "metadata": {
    "_cell_guid": "b1076dfc-b9ad-4769-8c92-a6c4dae69d19",
    "_uuid": "8f2839f25d086af736a60e9eeb907d3b93b6e0e5",
    "execution": {
     "iopub.execute_input": "2024-02-08T13:39:12.577450Z",
     "iopub.status.busy": "2024-02-08T13:39:12.576943Z",
     "iopub.status.idle": "2024-02-08T13:39:13.698208Z",
     "shell.execute_reply": "2024-02-08T13:39:13.696869Z"
    },
    "papermill": {
     "duration": 1.143348,
     "end_time": "2024-02-08T13:39:13.701587",
     "exception": false,
     "start_time": "2024-02-08T13:39:12.558239",
     "status": "completed"
    },
    "tags": []
   },
   "outputs": [],
   "source": [
    "import numpy as np\n",
    "import matplotlib.pyplot as plt\n",
    "import pandas as pd"
   ]
  },
  {
   "cell_type": "markdown",
   "id": "5b07584b",
   "metadata": {
    "papermill": {
     "duration": 0.015346,
     "end_time": "2024-02-08T13:39:13.732999",
     "exception": false,
     "start_time": "2024-02-08T13:39:13.717653",
     "status": "completed"
    },
    "tags": []
   },
   "source": [
    "# Introduction\n",
    "In this Notebook we show how to build a multiclass classifier, by:\n",
    "- applying simple pre-processing steps\n",
    "- trying different baseline algorithms\n",
    "- optimizing the hyperparameters of XGBoost\n",
    "\n",
    "In the pre-processing steps, we convert the non numerical features using the LabelEncoding for most of the columns, i.e. for the columns that have only two possible values or more than two sortable values.\n",
    "The only column that has not these characteristics is the MTRANS, where we apply the one-hot encoding.\n",
    "\n",
    "Then we do some data exploration, analzying the correlation between numerical features and labels, the distribution of train and test data, the distribution of labels, etc...\n",
    "\n",
    "Then we train 4 different baseline classifier: RandomForest, GradientBoosting, LightGBM and XGBoost.\n",
    "XGBoost shows the best performance, so we decide to optimize its hyperparameters by using the framework Optuna.\n",
    "\n",
    "Finally we perform the predictios in two ways:\n",
    "- using all the training data\n",
    "- using 5-fold stratified splitting and computing the average predicted probabilities out of 5"
   ]
  },
  {
   "cell_type": "markdown",
   "id": "f5a1d786",
   "metadata": {
    "papermill": {
     "duration": 0.015554,
     "end_time": "2024-02-08T13:39:13.764182",
     "exception": false,
     "start_time": "2024-02-08T13:39:13.748628",
     "status": "completed"
    },
    "tags": []
   },
   "source": [
    "# 1. Import data\n",
    "We import the data and we create two subsets:\n",
    "- one with numerical data\n",
    "- one with categorical data"
   ]
  },
  {
   "cell_type": "code",
   "execution_count": 2,
   "id": "0b761305",
   "metadata": {
    "execution": {
     "iopub.execute_input": "2024-02-08T13:39:13.798837Z",
     "iopub.status.busy": "2024-02-08T13:39:13.797837Z",
     "iopub.status.idle": "2024-02-08T13:39:13.974449Z",
     "shell.execute_reply": "2024-02-08T13:39:13.973061Z"
    },
    "papermill": {
     "duration": 0.197625,
     "end_time": "2024-02-08T13:39:13.977327",
     "exception": false,
     "start_time": "2024-02-08T13:39:13.779702",
     "status": "completed"
    },
    "tags": []
   },
   "outputs": [
    {
     "data": {
      "text/html": [
       "<div>\n",
       "<style scoped>\n",
       "    .dataframe tbody tr th:only-of-type {\n",
       "        vertical-align: middle;\n",
       "    }\n",
       "\n",
       "    .dataframe tbody tr th {\n",
       "        vertical-align: top;\n",
       "    }\n",
       "\n",
       "    .dataframe thead th {\n",
       "        text-align: right;\n",
       "    }\n",
       "</style>\n",
       "<table border=\"1\" class=\"dataframe\">\n",
       "  <thead>\n",
       "    <tr style=\"text-align: right;\">\n",
       "      <th></th>\n",
       "      <th>Gender</th>\n",
       "      <th>Age</th>\n",
       "      <th>Height</th>\n",
       "      <th>Weight</th>\n",
       "      <th>family_history_with_overweight</th>\n",
       "      <th>FAVC</th>\n",
       "      <th>FCVC</th>\n",
       "      <th>NCP</th>\n",
       "      <th>CAEC</th>\n",
       "      <th>SMOKE</th>\n",
       "      <th>CH2O</th>\n",
       "      <th>SCC</th>\n",
       "      <th>FAF</th>\n",
       "      <th>TUE</th>\n",
       "      <th>CALC</th>\n",
       "      <th>MTRANS</th>\n",
       "      <th>NObeyesdad</th>\n",
       "    </tr>\n",
       "    <tr>\n",
       "      <th>id</th>\n",
       "      <th></th>\n",
       "      <th></th>\n",
       "      <th></th>\n",
       "      <th></th>\n",
       "      <th></th>\n",
       "      <th></th>\n",
       "      <th></th>\n",
       "      <th></th>\n",
       "      <th></th>\n",
       "      <th></th>\n",
       "      <th></th>\n",
       "      <th></th>\n",
       "      <th></th>\n",
       "      <th></th>\n",
       "      <th></th>\n",
       "      <th></th>\n",
       "      <th></th>\n",
       "    </tr>\n",
       "  </thead>\n",
       "  <tbody>\n",
       "    <tr>\n",
       "      <th>0</th>\n",
       "      <td>Male</td>\n",
       "      <td>24.443011</td>\n",
       "      <td>1.699998</td>\n",
       "      <td>81.669950</td>\n",
       "      <td>yes</td>\n",
       "      <td>yes</td>\n",
       "      <td>2.000000</td>\n",
       "      <td>2.983297</td>\n",
       "      <td>Sometimes</td>\n",
       "      <td>no</td>\n",
       "      <td>2.763573</td>\n",
       "      <td>no</td>\n",
       "      <td>0.000000</td>\n",
       "      <td>0.976473</td>\n",
       "      <td>Sometimes</td>\n",
       "      <td>Public_Transportation</td>\n",
       "      <td>Overweight_Level_II</td>\n",
       "    </tr>\n",
       "    <tr>\n",
       "      <th>1</th>\n",
       "      <td>Female</td>\n",
       "      <td>18.000000</td>\n",
       "      <td>1.560000</td>\n",
       "      <td>57.000000</td>\n",
       "      <td>yes</td>\n",
       "      <td>yes</td>\n",
       "      <td>2.000000</td>\n",
       "      <td>3.000000</td>\n",
       "      <td>Frequently</td>\n",
       "      <td>no</td>\n",
       "      <td>2.000000</td>\n",
       "      <td>no</td>\n",
       "      <td>1.000000</td>\n",
       "      <td>1.000000</td>\n",
       "      <td>no</td>\n",
       "      <td>Automobile</td>\n",
       "      <td>Normal_Weight</td>\n",
       "    </tr>\n",
       "    <tr>\n",
       "      <th>2</th>\n",
       "      <td>Female</td>\n",
       "      <td>18.000000</td>\n",
       "      <td>1.711460</td>\n",
       "      <td>50.165754</td>\n",
       "      <td>yes</td>\n",
       "      <td>yes</td>\n",
       "      <td>1.880534</td>\n",
       "      <td>1.411685</td>\n",
       "      <td>Sometimes</td>\n",
       "      <td>no</td>\n",
       "      <td>1.910378</td>\n",
       "      <td>no</td>\n",
       "      <td>0.866045</td>\n",
       "      <td>1.673584</td>\n",
       "      <td>no</td>\n",
       "      <td>Public_Transportation</td>\n",
       "      <td>Insufficient_Weight</td>\n",
       "    </tr>\n",
       "    <tr>\n",
       "      <th>3</th>\n",
       "      <td>Female</td>\n",
       "      <td>20.952737</td>\n",
       "      <td>1.710730</td>\n",
       "      <td>131.274851</td>\n",
       "      <td>yes</td>\n",
       "      <td>yes</td>\n",
       "      <td>3.000000</td>\n",
       "      <td>3.000000</td>\n",
       "      <td>Sometimes</td>\n",
       "      <td>no</td>\n",
       "      <td>1.674061</td>\n",
       "      <td>no</td>\n",
       "      <td>1.467863</td>\n",
       "      <td>0.780199</td>\n",
       "      <td>Sometimes</td>\n",
       "      <td>Public_Transportation</td>\n",
       "      <td>Obesity_Type_III</td>\n",
       "    </tr>\n",
       "    <tr>\n",
       "      <th>4</th>\n",
       "      <td>Male</td>\n",
       "      <td>31.641081</td>\n",
       "      <td>1.914186</td>\n",
       "      <td>93.798055</td>\n",
       "      <td>yes</td>\n",
       "      <td>yes</td>\n",
       "      <td>2.679664</td>\n",
       "      <td>1.971472</td>\n",
       "      <td>Sometimes</td>\n",
       "      <td>no</td>\n",
       "      <td>1.979848</td>\n",
       "      <td>no</td>\n",
       "      <td>1.967973</td>\n",
       "      <td>0.931721</td>\n",
       "      <td>Sometimes</td>\n",
       "      <td>Public_Transportation</td>\n",
       "      <td>Overweight_Level_II</td>\n",
       "    </tr>\n",
       "  </tbody>\n",
       "</table>\n",
       "</div>"
      ],
      "text/plain": [
       "    Gender        Age    Height      Weight family_history_with_overweight  \\\n",
       "id                                                                           \n",
       "0     Male  24.443011  1.699998   81.669950                            yes   \n",
       "1   Female  18.000000  1.560000   57.000000                            yes   \n",
       "2   Female  18.000000  1.711460   50.165754                            yes   \n",
       "3   Female  20.952737  1.710730  131.274851                            yes   \n",
       "4     Male  31.641081  1.914186   93.798055                            yes   \n",
       "\n",
       "   FAVC      FCVC       NCP        CAEC SMOKE      CH2O SCC       FAF  \\\n",
       "id                                                                      \n",
       "0   yes  2.000000  2.983297   Sometimes    no  2.763573  no  0.000000   \n",
       "1   yes  2.000000  3.000000  Frequently    no  2.000000  no  1.000000   \n",
       "2   yes  1.880534  1.411685   Sometimes    no  1.910378  no  0.866045   \n",
       "3   yes  3.000000  3.000000   Sometimes    no  1.674061  no  1.467863   \n",
       "4   yes  2.679664  1.971472   Sometimes    no  1.979848  no  1.967973   \n",
       "\n",
       "         TUE       CALC                 MTRANS           NObeyesdad  \n",
       "id                                                                   \n",
       "0   0.976473  Sometimes  Public_Transportation  Overweight_Level_II  \n",
       "1   1.000000         no             Automobile        Normal_Weight  \n",
       "2   1.673584         no  Public_Transportation  Insufficient_Weight  \n",
       "3   0.780199  Sometimes  Public_Transportation     Obesity_Type_III  \n",
       "4   0.931721  Sometimes  Public_Transportation  Overweight_Level_II  "
      ]
     },
     "execution_count": 2,
     "metadata": {},
     "output_type": "execute_result"
    }
   ],
   "source": [
    "df = pd.read_csv('/kaggle/input/playground-series-s4e2/train.csv', index_col=0)\n",
    "\n",
    "df.head()"
   ]
  },
  {
   "cell_type": "code",
   "execution_count": 3,
   "id": "f7b133f4",
   "metadata": {
    "execution": {
     "iopub.execute_input": "2024-02-08T13:39:14.014137Z",
     "iopub.status.busy": "2024-02-08T13:39:14.013689Z",
     "iopub.status.idle": "2024-02-08T13:39:14.030462Z",
     "shell.execute_reply": "2024-02-08T13:39:14.029050Z"
    },
    "papermill": {
     "duration": 0.039009,
     "end_time": "2024-02-08T13:39:14.033360",
     "exception": false,
     "start_time": "2024-02-08T13:39:13.994351",
     "status": "completed"
    },
    "tags": []
   },
   "outputs": [],
   "source": [
    "features = df.drop('NObeyesdad', axis=1)\n",
    "labels = pd.DataFrame(df['NObeyesdad'])"
   ]
  },
  {
   "cell_type": "markdown",
   "id": "e619f88a",
   "metadata": {
    "papermill": {
     "duration": 0.016472,
     "end_time": "2024-02-08T13:39:14.066362",
     "exception": false,
     "start_time": "2024-02-08T13:39:14.049890",
     "status": "completed"
    },
    "tags": []
   },
   "source": [
    "# 2. Data exploration and pre-processing "
   ]
  },
  {
   "cell_type": "markdown",
   "id": "20e91391",
   "metadata": {
    "papermill": {
     "duration": 0.015794,
     "end_time": "2024-02-08T13:39:14.098329",
     "exception": false,
     "start_time": "2024-02-08T13:39:14.082535",
     "status": "completed"
    },
    "tags": []
   },
   "source": [
    "### Numerical DataFrame"
   ]
  },
  {
   "cell_type": "code",
   "execution_count": 4,
   "id": "e8a18149",
   "metadata": {
    "execution": {
     "iopub.execute_input": "2024-02-08T13:39:14.133209Z",
     "iopub.status.busy": "2024-02-08T13:39:14.132380Z",
     "iopub.status.idle": "2024-02-08T13:39:14.155827Z",
     "shell.execute_reply": "2024-02-08T13:39:14.154645Z"
    },
    "papermill": {
     "duration": 0.043953,
     "end_time": "2024-02-08T13:39:14.158448",
     "exception": false,
     "start_time": "2024-02-08T13:39:14.114495",
     "status": "completed"
    },
    "tags": []
   },
   "outputs": [
    {
     "data": {
      "text/html": [
       "<div>\n",
       "<style scoped>\n",
       "    .dataframe tbody tr th:only-of-type {\n",
       "        vertical-align: middle;\n",
       "    }\n",
       "\n",
       "    .dataframe tbody tr th {\n",
       "        vertical-align: top;\n",
       "    }\n",
       "\n",
       "    .dataframe thead th {\n",
       "        text-align: right;\n",
       "    }\n",
       "</style>\n",
       "<table border=\"1\" class=\"dataframe\">\n",
       "  <thead>\n",
       "    <tr style=\"text-align: right;\">\n",
       "      <th></th>\n",
       "      <th>Age</th>\n",
       "      <th>Height</th>\n",
       "      <th>Weight</th>\n",
       "      <th>FCVC</th>\n",
       "      <th>NCP</th>\n",
       "      <th>CH2O</th>\n",
       "      <th>FAF</th>\n",
       "      <th>TUE</th>\n",
       "    </tr>\n",
       "    <tr>\n",
       "      <th>id</th>\n",
       "      <th></th>\n",
       "      <th></th>\n",
       "      <th></th>\n",
       "      <th></th>\n",
       "      <th></th>\n",
       "      <th></th>\n",
       "      <th></th>\n",
       "      <th></th>\n",
       "    </tr>\n",
       "  </thead>\n",
       "  <tbody>\n",
       "    <tr>\n",
       "      <th>0</th>\n",
       "      <td>24.443011</td>\n",
       "      <td>1.699998</td>\n",
       "      <td>81.669950</td>\n",
       "      <td>2.000000</td>\n",
       "      <td>2.983297</td>\n",
       "      <td>2.763573</td>\n",
       "      <td>0.000000</td>\n",
       "      <td>0.976473</td>\n",
       "    </tr>\n",
       "    <tr>\n",
       "      <th>1</th>\n",
       "      <td>18.000000</td>\n",
       "      <td>1.560000</td>\n",
       "      <td>57.000000</td>\n",
       "      <td>2.000000</td>\n",
       "      <td>3.000000</td>\n",
       "      <td>2.000000</td>\n",
       "      <td>1.000000</td>\n",
       "      <td>1.000000</td>\n",
       "    </tr>\n",
       "    <tr>\n",
       "      <th>2</th>\n",
       "      <td>18.000000</td>\n",
       "      <td>1.711460</td>\n",
       "      <td>50.165754</td>\n",
       "      <td>1.880534</td>\n",
       "      <td>1.411685</td>\n",
       "      <td>1.910378</td>\n",
       "      <td>0.866045</td>\n",
       "      <td>1.673584</td>\n",
       "    </tr>\n",
       "    <tr>\n",
       "      <th>3</th>\n",
       "      <td>20.952737</td>\n",
       "      <td>1.710730</td>\n",
       "      <td>131.274851</td>\n",
       "      <td>3.000000</td>\n",
       "      <td>3.000000</td>\n",
       "      <td>1.674061</td>\n",
       "      <td>1.467863</td>\n",
       "      <td>0.780199</td>\n",
       "    </tr>\n",
       "    <tr>\n",
       "      <th>4</th>\n",
       "      <td>31.641081</td>\n",
       "      <td>1.914186</td>\n",
       "      <td>93.798055</td>\n",
       "      <td>2.679664</td>\n",
       "      <td>1.971472</td>\n",
       "      <td>1.979848</td>\n",
       "      <td>1.967973</td>\n",
       "      <td>0.931721</td>\n",
       "    </tr>\n",
       "    <tr>\n",
       "      <th>...</th>\n",
       "      <td>...</td>\n",
       "      <td>...</td>\n",
       "      <td>...</td>\n",
       "      <td>...</td>\n",
       "      <td>...</td>\n",
       "      <td>...</td>\n",
       "      <td>...</td>\n",
       "      <td>...</td>\n",
       "    </tr>\n",
       "    <tr>\n",
       "      <th>20753</th>\n",
       "      <td>25.137087</td>\n",
       "      <td>1.766626</td>\n",
       "      <td>114.187096</td>\n",
       "      <td>2.919584</td>\n",
       "      <td>3.000000</td>\n",
       "      <td>2.151809</td>\n",
       "      <td>1.330519</td>\n",
       "      <td>0.196680</td>\n",
       "    </tr>\n",
       "    <tr>\n",
       "      <th>20754</th>\n",
       "      <td>18.000000</td>\n",
       "      <td>1.710000</td>\n",
       "      <td>50.000000</td>\n",
       "      <td>3.000000</td>\n",
       "      <td>4.000000</td>\n",
       "      <td>1.000000</td>\n",
       "      <td>2.000000</td>\n",
       "      <td>1.000000</td>\n",
       "    </tr>\n",
       "    <tr>\n",
       "      <th>20755</th>\n",
       "      <td>20.101026</td>\n",
       "      <td>1.819557</td>\n",
       "      <td>105.580491</td>\n",
       "      <td>2.407817</td>\n",
       "      <td>3.000000</td>\n",
       "      <td>2.000000</td>\n",
       "      <td>1.158040</td>\n",
       "      <td>1.198439</td>\n",
       "    </tr>\n",
       "    <tr>\n",
       "      <th>20756</th>\n",
       "      <td>33.852953</td>\n",
       "      <td>1.700000</td>\n",
       "      <td>83.520113</td>\n",
       "      <td>2.671238</td>\n",
       "      <td>1.971472</td>\n",
       "      <td>2.144838</td>\n",
       "      <td>0.000000</td>\n",
       "      <td>0.973834</td>\n",
       "    </tr>\n",
       "    <tr>\n",
       "      <th>20757</th>\n",
       "      <td>26.680376</td>\n",
       "      <td>1.816547</td>\n",
       "      <td>118.134898</td>\n",
       "      <td>3.000000</td>\n",
       "      <td>3.000000</td>\n",
       "      <td>2.003563</td>\n",
       "      <td>0.684487</td>\n",
       "      <td>0.713823</td>\n",
       "    </tr>\n",
       "  </tbody>\n",
       "</table>\n",
       "<p>20758 rows × 8 columns</p>\n",
       "</div>"
      ],
      "text/plain": [
       "             Age    Height      Weight      FCVC       NCP      CH2O  \\\n",
       "id                                                                     \n",
       "0      24.443011  1.699998   81.669950  2.000000  2.983297  2.763573   \n",
       "1      18.000000  1.560000   57.000000  2.000000  3.000000  2.000000   \n",
       "2      18.000000  1.711460   50.165754  1.880534  1.411685  1.910378   \n",
       "3      20.952737  1.710730  131.274851  3.000000  3.000000  1.674061   \n",
       "4      31.641081  1.914186   93.798055  2.679664  1.971472  1.979848   \n",
       "...          ...       ...         ...       ...       ...       ...   \n",
       "20753  25.137087  1.766626  114.187096  2.919584  3.000000  2.151809   \n",
       "20754  18.000000  1.710000   50.000000  3.000000  4.000000  1.000000   \n",
       "20755  20.101026  1.819557  105.580491  2.407817  3.000000  2.000000   \n",
       "20756  33.852953  1.700000   83.520113  2.671238  1.971472  2.144838   \n",
       "20757  26.680376  1.816547  118.134898  3.000000  3.000000  2.003563   \n",
       "\n",
       "            FAF       TUE  \n",
       "id                         \n",
       "0      0.000000  0.976473  \n",
       "1      1.000000  1.000000  \n",
       "2      0.866045  1.673584  \n",
       "3      1.467863  0.780199  \n",
       "4      1.967973  0.931721  \n",
       "...         ...       ...  \n",
       "20753  1.330519  0.196680  \n",
       "20754  2.000000  1.000000  \n",
       "20755  1.158040  1.198439  \n",
       "20756  0.000000  0.973834  \n",
       "20757  0.684487  0.713823  \n",
       "\n",
       "[20758 rows x 8 columns]"
      ]
     },
     "execution_count": 4,
     "metadata": {},
     "output_type": "execute_result"
    }
   ],
   "source": [
    "mask_numeric = features.dtypes == float\n",
    "df_numerical = features.loc[:, mask_numeric]\n",
    "\n",
    "df_numerical"
   ]
  },
  {
   "cell_type": "code",
   "execution_count": 5,
   "id": "76424dd2",
   "metadata": {
    "execution": {
     "iopub.execute_input": "2024-02-08T13:39:14.193981Z",
     "iopub.status.busy": "2024-02-08T13:39:14.192865Z",
     "iopub.status.idle": "2024-02-08T13:39:16.501105Z",
     "shell.execute_reply": "2024-02-08T13:39:16.499832Z"
    },
    "papermill": {
     "duration": 2.328594,
     "end_time": "2024-02-08T13:39:16.503730",
     "exception": false,
     "start_time": "2024-02-08T13:39:14.175136",
     "status": "completed"
    },
    "tags": []
   },
   "outputs": [
    {
     "data": {
      "image/png": "[encoded data removed]",
      "text/plain": [
       "<Figure size 1000x500 with 2 Axes>"
      ]
     },
     "metadata": {},
     "output_type": "display_data"
    }
   ],
   "source": [
    "corr_numerical = df_numerical.corr()\n",
    "\n",
    "import seaborn as sns\n",
    "\n",
    "plt.figure(figsize=(10, 5))\n",
    "sns.heatmap(corr_numerical, annot=True, cmap=\"OrRd\", fmt='.3f', cbar=True, vmin=-1, vmax=1)\n",
    "plt.show()"
   ]
  },
  {
   "cell_type": "markdown",
   "id": "2d1935ea",
   "metadata": {
    "papermill": {
     "duration": 0.01761,
     "end_time": "2024-02-08T13:39:16.540186",
     "exception": false,
     "start_time": "2024-02-08T13:39:16.522576",
     "status": "completed"
    },
    "tags": []
   },
   "source": [
    "### Categorical DataFrame"
   ]
  },
  {
   "cell_type": "code",
   "execution_count": 6,
   "id": "59bbbbe4",
   "metadata": {
    "execution": {
     "iopub.execute_input": "2024-02-08T13:39:16.578261Z",
     "iopub.status.busy": "2024-02-08T13:39:16.577829Z",
     "iopub.status.idle": "2024-02-08T13:39:16.623943Z",
     "shell.execute_reply": "2024-02-08T13:39:16.621712Z"
    },
    "papermill": {
     "duration": 0.068424,
     "end_time": "2024-02-08T13:39:16.626629",
     "exception": false,
     "start_time": "2024-02-08T13:39:16.558205",
     "status": "completed"
    },
    "tags": []
   },
   "outputs": [
    {
     "name": "stdout",
     "output_type": "stream",
     "text": [
      "Gender\n",
      "Female    10422\n",
      "Male      10336\n",
      "Name: count, dtype: int64\n",
      "family_history_with_overweight\n",
      "yes    17014\n",
      "no      3744\n",
      "Name: count, dtype: int64\n",
      "FAVC\n",
      "yes    18982\n",
      "no      1776\n",
      "Name: count, dtype: int64\n",
      "CAEC\n",
      "Sometimes     17529\n",
      "Frequently     2472\n",
      "Always          478\n",
      "no              279\n",
      "Name: count, dtype: int64\n",
      "SMOKE\n",
      "no     20513\n",
      "yes      245\n",
      "Name: count, dtype: int64\n",
      "SCC\n",
      "no     20071\n",
      "yes      687\n",
      "Name: count, dtype: int64\n",
      "CALC\n",
      "Sometimes     15066\n",
      "no             5163\n",
      "Frequently      529\n",
      "Name: count, dtype: int64\n",
      "MTRANS\n",
      "Public_Transportation    16687\n",
      "Automobile                3534\n",
      "Walking                    467\n",
      "Motorbike                   38\n",
      "Bike                        32\n",
      "Name: count, dtype: int64\n"
     ]
    }
   ],
   "source": [
    "mask_categorical = features.dtypes != float\n",
    "df_categorical = features.loc[:, mask_categorical]\n",
    "\n",
    "for i in range(df_categorical.shape[1]):\n",
    "    print(df_categorical.iloc[:, i].value_counts())"
   ]
  },
  {
   "cell_type": "code",
   "execution_count": 7,
   "id": "640b3493",
   "metadata": {
    "execution": {
     "iopub.execute_input": "2024-02-08T13:39:16.665061Z",
     "iopub.status.busy": "2024-02-08T13:39:16.664654Z",
     "iopub.status.idle": "2024-02-08T13:39:16.726062Z",
     "shell.execute_reply": "2024-02-08T13:39:16.724647Z"
    },
    "papermill": {
     "duration": 0.083928,
     "end_time": "2024-02-08T13:39:16.729192",
     "exception": false,
     "start_time": "2024-02-08T13:39:16.645264",
     "status": "completed"
    },
    "tags": []
   },
   "outputs": [
    {
     "data": {
      "text/html": [
       "<div>\n",
       "<style scoped>\n",
       "    .dataframe tbody tr th:only-of-type {\n",
       "        vertical-align: middle;\n",
       "    }\n",
       "\n",
       "    .dataframe tbody tr th {\n",
       "        vertical-align: top;\n",
       "    }\n",
       "\n",
       "    .dataframe thead th {\n",
       "        text-align: right;\n",
       "    }\n",
       "</style>\n",
       "<table border=\"1\" class=\"dataframe\">\n",
       "  <thead>\n",
       "    <tr style=\"text-align: right;\">\n",
       "      <th></th>\n",
       "      <th>Gender</th>\n",
       "      <th>family_history_with_overweight</th>\n",
       "      <th>FAVC</th>\n",
       "      <th>CAEC</th>\n",
       "      <th>SMOKE</th>\n",
       "      <th>SCC</th>\n",
       "      <th>CALC</th>\n",
       "      <th>Automobile</th>\n",
       "      <th>Bike</th>\n",
       "      <th>Motorbike</th>\n",
       "      <th>Public_Transportation</th>\n",
       "    </tr>\n",
       "    <tr>\n",
       "      <th>id</th>\n",
       "      <th></th>\n",
       "      <th></th>\n",
       "      <th></th>\n",
       "      <th></th>\n",
       "      <th></th>\n",
       "      <th></th>\n",
       "      <th></th>\n",
       "      <th></th>\n",
       "      <th></th>\n",
       "      <th></th>\n",
       "      <th></th>\n",
       "    </tr>\n",
       "  </thead>\n",
       "  <tbody>\n",
       "    <tr>\n",
       "      <th>0</th>\n",
       "      <td>0</td>\n",
       "      <td>1</td>\n",
       "      <td>1</td>\n",
       "      <td>1</td>\n",
       "      <td>0</td>\n",
       "      <td>0</td>\n",
       "      <td>1</td>\n",
       "      <td>0</td>\n",
       "      <td>0</td>\n",
       "      <td>0</td>\n",
       "      <td>1</td>\n",
       "    </tr>\n",
       "    <tr>\n",
       "      <th>1</th>\n",
       "      <td>1</td>\n",
       "      <td>1</td>\n",
       "      <td>1</td>\n",
       "      <td>2</td>\n",
       "      <td>0</td>\n",
       "      <td>0</td>\n",
       "      <td>0</td>\n",
       "      <td>1</td>\n",
       "      <td>0</td>\n",
       "      <td>0</td>\n",
       "      <td>0</td>\n",
       "    </tr>\n",
       "    <tr>\n",
       "      <th>2</th>\n",
       "      <td>1</td>\n",
       "      <td>1</td>\n",
       "      <td>1</td>\n",
       "      <td>1</td>\n",
       "      <td>0</td>\n",
       "      <td>0</td>\n",
       "      <td>0</td>\n",
       "      <td>0</td>\n",
       "      <td>0</td>\n",
       "      <td>0</td>\n",
       "      <td>1</td>\n",
       "    </tr>\n",
       "    <tr>\n",
       "      <th>3</th>\n",
       "      <td>1</td>\n",
       "      <td>1</td>\n",
       "      <td>1</td>\n",
       "      <td>1</td>\n",
       "      <td>0</td>\n",
       "      <td>0</td>\n",
       "      <td>1</td>\n",
       "      <td>0</td>\n",
       "      <td>0</td>\n",
       "      <td>0</td>\n",
       "      <td>1</td>\n",
       "    </tr>\n",
       "    <tr>\n",
       "      <th>4</th>\n",
       "      <td>0</td>\n",
       "      <td>1</td>\n",
       "      <td>1</td>\n",
       "      <td>1</td>\n",
       "      <td>0</td>\n",
       "      <td>0</td>\n",
       "      <td>1</td>\n",
       "      <td>0</td>\n",
       "      <td>0</td>\n",
       "      <td>0</td>\n",
       "      <td>1</td>\n",
       "    </tr>\n",
       "    <tr>\n",
       "      <th>...</th>\n",
       "      <td>...</td>\n",
       "      <td>...</td>\n",
       "      <td>...</td>\n",
       "      <td>...</td>\n",
       "      <td>...</td>\n",
       "      <td>...</td>\n",
       "      <td>...</td>\n",
       "      <td>...</td>\n",
       "      <td>...</td>\n",
       "      <td>...</td>\n",
       "      <td>...</td>\n",
       "    </tr>\n",
       "    <tr>\n",
       "      <th>20753</th>\n",
       "      <td>0</td>\n",
       "      <td>1</td>\n",
       "      <td>1</td>\n",
       "      <td>1</td>\n",
       "      <td>0</td>\n",
       "      <td>0</td>\n",
       "      <td>1</td>\n",
       "      <td>0</td>\n",
       "      <td>0</td>\n",
       "      <td>0</td>\n",
       "      <td>1</td>\n",
       "    </tr>\n",
       "    <tr>\n",
       "      <th>20754</th>\n",
       "      <td>0</td>\n",
       "      <td>0</td>\n",
       "      <td>1</td>\n",
       "      <td>2</td>\n",
       "      <td>0</td>\n",
       "      <td>0</td>\n",
       "      <td>1</td>\n",
       "      <td>0</td>\n",
       "      <td>0</td>\n",
       "      <td>0</td>\n",
       "      <td>1</td>\n",
       "    </tr>\n",
       "    <tr>\n",
       "      <th>20755</th>\n",
       "      <td>0</td>\n",
       "      <td>1</td>\n",
       "      <td>1</td>\n",
       "      <td>1</td>\n",
       "      <td>0</td>\n",
       "      <td>0</td>\n",
       "      <td>0</td>\n",
       "      <td>0</td>\n",
       "      <td>0</td>\n",
       "      <td>0</td>\n",
       "      <td>1</td>\n",
       "    </tr>\n",
       "    <tr>\n",
       "      <th>20756</th>\n",
       "      <td>0</td>\n",
       "      <td>1</td>\n",
       "      <td>1</td>\n",
       "      <td>1</td>\n",
       "      <td>0</td>\n",
       "      <td>0</td>\n",
       "      <td>0</td>\n",
       "      <td>1</td>\n",
       "      <td>0</td>\n",
       "      <td>0</td>\n",
       "      <td>0</td>\n",
       "    </tr>\n",
       "    <tr>\n",
       "      <th>20757</th>\n",
       "      <td>0</td>\n",
       "      <td>1</td>\n",
       "      <td>1</td>\n",
       "      <td>1</td>\n",
       "      <td>0</td>\n",
       "      <td>0</td>\n",
       "      <td>1</td>\n",
       "      <td>0</td>\n",
       "      <td>0</td>\n",
       "      <td>0</td>\n",
       "      <td>1</td>\n",
       "    </tr>\n",
       "  </tbody>\n",
       "</table>\n",
       "<p>20758 rows × 11 columns</p>\n",
       "</div>"
      ],
      "text/plain": [
       "       Gender  family_history_with_overweight  FAVC  CAEC  SMOKE  SCC  CALC  \\\n",
       "id                                                                            \n",
       "0           0                               1     1     1      0    0     1   \n",
       "1           1                               1     1     2      0    0     0   \n",
       "2           1                               1     1     1      0    0     0   \n",
       "3           1                               1     1     1      0    0     1   \n",
       "4           0                               1     1     1      0    0     1   \n",
       "...       ...                             ...   ...   ...    ...  ...   ...   \n",
       "20753       0                               1     1     1      0    0     1   \n",
       "20754       0                               0     1     2      0    0     1   \n",
       "20755       0                               1     1     1      0    0     0   \n",
       "20756       0                               1     1     1      0    0     0   \n",
       "20757       0                               1     1     1      0    0     1   \n",
       "\n",
       "       Automobile  Bike  Motorbike  Public_Transportation  \n",
       "id                                                         \n",
       "0               0     0          0                      1  \n",
       "1               1     0          0                      0  \n",
       "2               0     0          0                      1  \n",
       "3               0     0          0                      1  \n",
       "4               0     0          0                      1  \n",
       "...           ...   ...        ...                    ...  \n",
       "20753           0     0          0                      1  \n",
       "20754           0     0          0                      1  \n",
       "20755           0     0          0                      1  \n",
       "20756           1     0          0                      0  \n",
       "20757           0     0          0                      1  \n",
       "\n",
       "[20758 rows x 11 columns]"
      ]
     },
     "execution_count": 7,
     "metadata": {},
     "output_type": "execute_result"
    }
   ],
   "source": [
    "df_encoded = df_categorical.copy(deep=True)\n",
    "\n",
    "# label encoding\n",
    "df_encoded['Gender'] = df_categorical['Gender'].map({'Male':0, 'Female':1})\n",
    "df_encoded['family_history_with_overweight'] = df_categorical['family_history_with_overweight'].map({'no':0, 'yes':1})\n",
    "df_encoded['FAVC'] = df_categorical['FAVC'].map({'no':0, 'yes':1})\n",
    "df_encoded['CAEC'] = df_categorical['CAEC'].map({'no':0, 'Sometimes':1, 'Frequently':2, 'Always':3})\n",
    "df_encoded['SMOKE'] = df_categorical['SMOKE'].map({'no':0, 'yes':1})\n",
    "df_encoded['SCC'] = df_categorical['SCC'].map({'no':0, 'yes':1})\n",
    "df_encoded['CALC'] = df_categorical['CALC'].map({'no':0, 'Sometimes':1, 'Frequently':2, 'Always':3})\n",
    "\n",
    "# one-hot encoding\n",
    "df_onehot = pd.get_dummies(df_categorical['MTRANS']).astype(int)\n",
    "df_encoded.drop('MTRANS', axis=1, inplace=True)\n",
    "\n",
    "# concatenate\n",
    "# one feature of df_encoded is redundant; we can remove it\n",
    "df_encoded = pd.concat([df_encoded, df_onehot.iloc[:, 0:-1]], axis=1)\n",
    "\n",
    "df_encoded"
   ]
  },
  {
   "cell_type": "markdown",
   "id": "d786862c",
   "metadata": {
    "papermill": {
     "duration": 0.018007,
     "end_time": "2024-02-08T13:39:16.765838",
     "exception": false,
     "start_time": "2024-02-08T13:39:16.747831",
     "status": "completed"
    },
    "tags": []
   },
   "source": [
    "### Concatenate all features together"
   ]
  },
  {
   "cell_type": "code",
   "execution_count": 8,
   "id": "1abba792",
   "metadata": {
    "execution": {
     "iopub.execute_input": "2024-02-08T13:39:16.804199Z",
     "iopub.status.busy": "2024-02-08T13:39:16.803804Z",
     "iopub.status.idle": "2024-02-08T13:39:16.837477Z",
     "shell.execute_reply": "2024-02-08T13:39:16.836155Z"
    },
    "papermill": {
     "duration": 0.05624,
     "end_time": "2024-02-08T13:39:16.840311",
     "exception": false,
     "start_time": "2024-02-08T13:39:16.784071",
     "status": "completed"
    },
    "tags": []
   },
   "outputs": [
    {
     "data": {
      "text/html": [
       "<div>\n",
       "<style scoped>\n",
       "    .dataframe tbody tr th:only-of-type {\n",
       "        vertical-align: middle;\n",
       "    }\n",
       "\n",
       "    .dataframe tbody tr th {\n",
       "        vertical-align: top;\n",
       "    }\n",
       "\n",
       "    .dataframe thead th {\n",
       "        text-align: right;\n",
       "    }\n",
       "</style>\n",
       "<table border=\"1\" class=\"dataframe\">\n",
       "  <thead>\n",
       "    <tr style=\"text-align: right;\">\n",
       "      <th></th>\n",
       "      <th>Age</th>\n",
       "      <th>Height</th>\n",
       "      <th>Weight</th>\n",
       "      <th>FCVC</th>\n",
       "      <th>NCP</th>\n",
       "      <th>CH2O</th>\n",
       "      <th>FAF</th>\n",
       "      <th>TUE</th>\n",
       "      <th>Gender</th>\n",
       "      <th>family_history_with_overweight</th>\n",
       "      <th>FAVC</th>\n",
       "      <th>CAEC</th>\n",
       "      <th>SMOKE</th>\n",
       "      <th>SCC</th>\n",
       "      <th>CALC</th>\n",
       "      <th>Automobile</th>\n",
       "      <th>Bike</th>\n",
       "      <th>Motorbike</th>\n",
       "      <th>Public_Transportation</th>\n",
       "    </tr>\n",
       "    <tr>\n",
       "      <th>id</th>\n",
       "      <th></th>\n",
       "      <th></th>\n",
       "      <th></th>\n",
       "      <th></th>\n",
       "      <th></th>\n",
       "      <th></th>\n",
       "      <th></th>\n",
       "      <th></th>\n",
       "      <th></th>\n",
       "      <th></th>\n",
       "      <th></th>\n",
       "      <th></th>\n",
       "      <th></th>\n",
       "      <th></th>\n",
       "      <th></th>\n",
       "      <th></th>\n",
       "      <th></th>\n",
       "      <th></th>\n",
       "      <th></th>\n",
       "    </tr>\n",
       "  </thead>\n",
       "  <tbody>\n",
       "    <tr>\n",
       "      <th>0</th>\n",
       "      <td>24.443011</td>\n",
       "      <td>1.699998</td>\n",
       "      <td>81.669950</td>\n",
       "      <td>2.000000</td>\n",
       "      <td>2.983297</td>\n",
       "      <td>2.763573</td>\n",
       "      <td>0.000000</td>\n",
       "      <td>0.976473</td>\n",
       "      <td>0</td>\n",
       "      <td>1</td>\n",
       "      <td>1</td>\n",
       "      <td>1</td>\n",
       "      <td>0</td>\n",
       "      <td>0</td>\n",
       "      <td>1</td>\n",
       "      <td>0</td>\n",
       "      <td>0</td>\n",
       "      <td>0</td>\n",
       "      <td>1</td>\n",
       "    </tr>\n",
       "    <tr>\n",
       "      <th>1</th>\n",
       "      <td>18.000000</td>\n",
       "      <td>1.560000</td>\n",
       "      <td>57.000000</td>\n",
       "      <td>2.000000</td>\n",
       "      <td>3.000000</td>\n",
       "      <td>2.000000</td>\n",
       "      <td>1.000000</td>\n",
       "      <td>1.000000</td>\n",
       "      <td>1</td>\n",
       "      <td>1</td>\n",
       "      <td>1</td>\n",
       "      <td>2</td>\n",
       "      <td>0</td>\n",
       "      <td>0</td>\n",
       "      <td>0</td>\n",
       "      <td>1</td>\n",
       "      <td>0</td>\n",
       "      <td>0</td>\n",
       "      <td>0</td>\n",
       "    </tr>\n",
       "    <tr>\n",
       "      <th>2</th>\n",
       "      <td>18.000000</td>\n",
       "      <td>1.711460</td>\n",
       "      <td>50.165754</td>\n",
       "      <td>1.880534</td>\n",
       "      <td>1.411685</td>\n",
       "      <td>1.910378</td>\n",
       "      <td>0.866045</td>\n",
       "      <td>1.673584</td>\n",
       "      <td>1</td>\n",
       "      <td>1</td>\n",
       "      <td>1</td>\n",
       "      <td>1</td>\n",
       "      <td>0</td>\n",
       "      <td>0</td>\n",
       "      <td>0</td>\n",
       "      <td>0</td>\n",
       "      <td>0</td>\n",
       "      <td>0</td>\n",
       "      <td>1</td>\n",
       "    </tr>\n",
       "    <tr>\n",
       "      <th>3</th>\n",
       "      <td>20.952737</td>\n",
       "      <td>1.710730</td>\n",
       "      <td>131.274851</td>\n",
       "      <td>3.000000</td>\n",
       "      <td>3.000000</td>\n",
       "      <td>1.674061</td>\n",
       "      <td>1.467863</td>\n",
       "      <td>0.780199</td>\n",
       "      <td>1</td>\n",
       "      <td>1</td>\n",
       "      <td>1</td>\n",
       "      <td>1</td>\n",
       "      <td>0</td>\n",
       "      <td>0</td>\n",
       "      <td>1</td>\n",
       "      <td>0</td>\n",
       "      <td>0</td>\n",
       "      <td>0</td>\n",
       "      <td>1</td>\n",
       "    </tr>\n",
       "    <tr>\n",
       "      <th>4</th>\n",
       "      <td>31.641081</td>\n",
       "      <td>1.914186</td>\n",
       "      <td>93.798055</td>\n",
       "      <td>2.679664</td>\n",
       "      <td>1.971472</td>\n",
       "      <td>1.979848</td>\n",
       "      <td>1.967973</td>\n",
       "      <td>0.931721</td>\n",
       "      <td>0</td>\n",
       "      <td>1</td>\n",
       "      <td>1</td>\n",
       "      <td>1</td>\n",
       "      <td>0</td>\n",
       "      <td>0</td>\n",
       "      <td>1</td>\n",
       "      <td>0</td>\n",
       "      <td>0</td>\n",
       "      <td>0</td>\n",
       "      <td>1</td>\n",
       "    </tr>\n",
       "    <tr>\n",
       "      <th>...</th>\n",
       "      <td>...</td>\n",
       "      <td>...</td>\n",
       "      <td>...</td>\n",
       "      <td>...</td>\n",
       "      <td>...</td>\n",
       "      <td>...</td>\n",
       "      <td>...</td>\n",
       "      <td>...</td>\n",
       "      <td>...</td>\n",
       "      <td>...</td>\n",
       "      <td>...</td>\n",
       "      <td>...</td>\n",
       "      <td>...</td>\n",
       "      <td>...</td>\n",
       "      <td>...</td>\n",
       "      <td>...</td>\n",
       "      <td>...</td>\n",
       "      <td>...</td>\n",
       "      <td>...</td>\n",
       "    </tr>\n",
       "    <tr>\n",
       "      <th>20753</th>\n",
       "      <td>25.137087</td>\n",
       "      <td>1.766626</td>\n",
       "      <td>114.187096</td>\n",
       "      <td>2.919584</td>\n",
       "      <td>3.000000</td>\n",
       "      <td>2.151809</td>\n",
       "      <td>1.330519</td>\n",
       "      <td>0.196680</td>\n",
       "      <td>0</td>\n",
       "      <td>1</td>\n",
       "      <td>1</td>\n",
       "      <td>1</td>\n",
       "      <td>0</td>\n",
       "      <td>0</td>\n",
       "      <td>1</td>\n",
       "      <td>0</td>\n",
       "      <td>0</td>\n",
       "      <td>0</td>\n",
       "      <td>1</td>\n",
       "    </tr>\n",
       "    <tr>\n",
       "      <th>20754</th>\n",
       "      <td>18.000000</td>\n",
       "      <td>1.710000</td>\n",
       "      <td>50.000000</td>\n",
       "      <td>3.000000</td>\n",
       "      <td>4.000000</td>\n",
       "      <td>1.000000</td>\n",
       "      <td>2.000000</td>\n",
       "      <td>1.000000</td>\n",
       "      <td>0</td>\n",
       "      <td>0</td>\n",
       "      <td>1</td>\n",
       "      <td>2</td>\n",
       "      <td>0</td>\n",
       "      <td>0</td>\n",
       "      <td>1</td>\n",
       "      <td>0</td>\n",
       "      <td>0</td>\n",
       "      <td>0</td>\n",
       "      <td>1</td>\n",
       "    </tr>\n",
       "    <tr>\n",
       "      <th>20755</th>\n",
       "      <td>20.101026</td>\n",
       "      <td>1.819557</td>\n",
       "      <td>105.580491</td>\n",
       "      <td>2.407817</td>\n",
       "      <td>3.000000</td>\n",
       "      <td>2.000000</td>\n",
       "      <td>1.158040</td>\n",
       "      <td>1.198439</td>\n",
       "      <td>0</td>\n",
       "      <td>1</td>\n",
       "      <td>1</td>\n",
       "      <td>1</td>\n",
       "      <td>0</td>\n",
       "      <td>0</td>\n",
       "      <td>0</td>\n",
       "      <td>0</td>\n",
       "      <td>0</td>\n",
       "      <td>0</td>\n",
       "      <td>1</td>\n",
       "    </tr>\n",
       "    <tr>\n",
       "      <th>20756</th>\n",
       "      <td>33.852953</td>\n",
       "      <td>1.700000</td>\n",
       "      <td>83.520113</td>\n",
       "      <td>2.671238</td>\n",
       "      <td>1.971472</td>\n",
       "      <td>2.144838</td>\n",
       "      <td>0.000000</td>\n",
       "      <td>0.973834</td>\n",
       "      <td>0</td>\n",
       "      <td>1</td>\n",
       "      <td>1</td>\n",
       "      <td>1</td>\n",
       "      <td>0</td>\n",
       "      <td>0</td>\n",
       "      <td>0</td>\n",
       "      <td>1</td>\n",
       "      <td>0</td>\n",
       "      <td>0</td>\n",
       "      <td>0</td>\n",
       "    </tr>\n",
       "    <tr>\n",
       "      <th>20757</th>\n",
       "      <td>26.680376</td>\n",
       "      <td>1.816547</td>\n",
       "      <td>118.134898</td>\n",
       "      <td>3.000000</td>\n",
       "      <td>3.000000</td>\n",
       "      <td>2.003563</td>\n",
       "      <td>0.684487</td>\n",
       "      <td>0.713823</td>\n",
       "      <td>0</td>\n",
       "      <td>1</td>\n",
       "      <td>1</td>\n",
       "      <td>1</td>\n",
       "      <td>0</td>\n",
       "      <td>0</td>\n",
       "      <td>1</td>\n",
       "      <td>0</td>\n",
       "      <td>0</td>\n",
       "      <td>0</td>\n",
       "      <td>1</td>\n",
       "    </tr>\n",
       "  </tbody>\n",
       "</table>\n",
       "<p>20758 rows × 19 columns</p>\n",
       "</div>"
      ],
      "text/plain": [
       "             Age    Height      Weight      FCVC       NCP      CH2O  \\\n",
       "id                                                                     \n",
       "0      24.443011  1.699998   81.669950  2.000000  2.983297  2.763573   \n",
       "1      18.000000  1.560000   57.000000  2.000000  3.000000  2.000000   \n",
       "2      18.000000  1.711460   50.165754  1.880534  1.411685  1.910378   \n",
       "3      20.952737  1.710730  131.274851  3.000000  3.000000  1.674061   \n",
       "4      31.641081  1.914186   93.798055  2.679664  1.971472  1.979848   \n",
       "...          ...       ...         ...       ...       ...       ...   \n",
       "20753  25.137087  1.766626  114.187096  2.919584  3.000000  2.151809   \n",
       "20754  18.000000  1.710000   50.000000  3.000000  4.000000  1.000000   \n",
       "20755  20.101026  1.819557  105.580491  2.407817  3.000000  2.000000   \n",
       "20756  33.852953  1.700000   83.520113  2.671238  1.971472  2.144838   \n",
       "20757  26.680376  1.816547  118.134898  3.000000  3.000000  2.003563   \n",
       "\n",
       "            FAF       TUE  Gender  family_history_with_overweight  FAVC  CAEC  \\\n",
       "id                                                                              \n",
       "0      0.000000  0.976473       0                               1     1     1   \n",
       "1      1.000000  1.000000       1                               1     1     2   \n",
       "2      0.866045  1.673584       1                               1     1     1   \n",
       "3      1.467863  0.780199       1                               1     1     1   \n",
       "4      1.967973  0.931721       0                               1     1     1   \n",
       "...         ...       ...     ...                             ...   ...   ...   \n",
       "20753  1.330519  0.196680       0                               1     1     1   \n",
       "20754  2.000000  1.000000       0                               0     1     2   \n",
       "20755  1.158040  1.198439       0                               1     1     1   \n",
       "20756  0.000000  0.973834       0                               1     1     1   \n",
       "20757  0.684487  0.713823       0                               1     1     1   \n",
       "\n",
       "       SMOKE  SCC  CALC  Automobile  Bike  Motorbike  Public_Transportation  \n",
       "id                                                                           \n",
       "0          0    0     1           0     0          0                      1  \n",
       "1          0    0     0           1     0          0                      0  \n",
       "2          0    0     0           0     0          0                      1  \n",
       "3          0    0     1           0     0          0                      1  \n",
       "4          0    0     1           0     0          0                      1  \n",
       "...      ...  ...   ...         ...   ...        ...                    ...  \n",
       "20753      0    0     1           0     0          0                      1  \n",
       "20754      0    0     1           0     0          0                      1  \n",
       "20755      0    0     0           0     0          0                      1  \n",
       "20756      0    0     0           1     0          0                      0  \n",
       "20757      0    0     1           0     0          0                      1  \n",
       "\n",
       "[20758 rows x 19 columns]"
      ]
     },
     "execution_count": 8,
     "metadata": {},
     "output_type": "execute_result"
    }
   ],
   "source": [
    "df_all_features = pd.concat([df_numerical, df_encoded], axis=1)\n",
    "\n",
    "df_all_features"
   ]
  },
  {
   "cell_type": "markdown",
   "id": "b72410b8",
   "metadata": {
    "papermill": {
     "duration": 0.02078,
     "end_time": "2024-02-08T13:39:16.880802",
     "exception": false,
     "start_time": "2024-02-08T13:39:16.860022",
     "status": "completed"
    },
    "tags": []
   },
   "source": [
    "### Define a pre-processing pipeline\n",
    "\n",
    "Let us summarize all the previous steps into a function, called `apply_preprocessing`"
   ]
  },
  {
   "cell_type": "code",
   "execution_count": 9,
   "id": "8263c846",
   "metadata": {
    "execution": {
     "iopub.execute_input": "2024-02-08T13:39:16.921825Z",
     "iopub.status.busy": "2024-02-08T13:39:16.921013Z",
     "iopub.status.idle": "2024-02-08T13:39:16.934447Z",
     "shell.execute_reply": "2024-02-08T13:39:16.933135Z"
    },
    "papermill": {
     "duration": 0.037388,
     "end_time": "2024-02-08T13:39:16.937347",
     "exception": false,
     "start_time": "2024-02-08T13:39:16.899959",
     "status": "completed"
    },
    "tags": []
   },
   "outputs": [],
   "source": [
    "def apply_preprocessing(data):\n",
    "    features = data.copy(deep=True)\n",
    "    \n",
    "    # numerical dataframe\n",
    "    mask_numeric = features.dtypes == float\n",
    "    df_numerical = features.loc[:, mask_numeric]\n",
    "    \n",
    "    # categorical dataframe\n",
    "    mask_categorical = features.dtypes != float\n",
    "    df_categorical = features.loc[:, mask_categorical]\n",
    "    \n",
    "    # label encoding\n",
    "    df_encoded = df_categorical.copy(deep=True)\n",
    "    df_encoded['Gender'] = df_categorical['Gender'].map({'Male':0, 'Female':1})\n",
    "    df_encoded['family_history_with_overweight'] = df_categorical['family_history_with_overweight'].map({'no':0, 'yes':1})\n",
    "    df_encoded['FAVC'] = df_categorical['FAVC'].map({'no':0, 'yes':1})\n",
    "    df_encoded['CAEC'] = df_categorical['CAEC'].map({'no':0, 'Sometimes':1, 'Frequently':2, 'Always':3})\n",
    "    df_encoded['SMOKE'] = df_categorical['SMOKE'].map({'no':0, 'yes':1})\n",
    "    df_encoded['SCC'] = df_categorical['SCC'].map({'no':0, 'yes':1})\n",
    "    df_encoded['CALC'] = df_categorical['CALC'].map({'no':0, 'Sometimes':1, 'Frequently':2, 'Always':3})\n",
    "\n",
    "    # one-hot encoding\n",
    "    df_onehot = pd.get_dummies(df_categorical['MTRANS']).astype(int)\n",
    "    df_encoded.drop('MTRANS', axis=1, inplace=True)\n",
    "\n",
    "    # concatenate\n",
    "    # one feature of df_encoded is redundant; we can remove it\n",
    "    df_encoded = pd.concat([df_encoded, df_onehot.iloc[:, 0:-1]], axis=1)\n",
    "    \n",
    "    df_all_features = pd.concat([df_numerical, df_encoded], axis=1)\n",
    "    \n",
    "    return df_all_features"
   ]
  },
  {
   "cell_type": "markdown",
   "id": "4a8e9fa3",
   "metadata": {
    "papermill": {
     "duration": 0.018833,
     "end_time": "2024-02-08T13:39:16.975248",
     "exception": false,
     "start_time": "2024-02-08T13:39:16.956415",
     "status": "completed"
    },
    "tags": []
   },
   "source": [
    "### Compare train and test dataset\n",
    "The train dataset is that one that we will use to train the model. It has labels.\n",
    "\n",
    "The test dataset will be used to make predictions and submit them to the competition."
   ]
  },
  {
   "cell_type": "code",
   "execution_count": 10,
   "id": "00d6288e",
   "metadata": {
    "execution": {
     "iopub.execute_input": "2024-02-08T13:39:17.016882Z",
     "iopub.status.busy": "2024-02-08T13:39:17.016165Z",
     "iopub.status.idle": "2024-02-08T13:39:17.128775Z",
     "shell.execute_reply": "2024-02-08T13:39:17.126890Z"
    },
    "papermill": {
     "duration": 0.136278,
     "end_time": "2024-02-08T13:39:17.131536",
     "exception": false,
     "start_time": "2024-02-08T13:39:16.995258",
     "status": "completed"
    },
    "tags": []
   },
   "outputs": [
    {
     "name": "stdout",
     "output_type": "stream",
     "text": [
      "Train columns Index(['Age', 'Height', 'Weight', 'FCVC', 'NCP', 'CH2O', 'FAF', 'TUE',\n",
      "       'Gender', 'family_history_with_overweight', 'FAVC', 'CAEC', 'SMOKE',\n",
      "       'SCC', 'CALC', 'Automobile', 'Bike', 'Motorbike',\n",
      "       'Public_Transportation'],\n",
      "      dtype='object')\n",
      "Test columns Index(['Age', 'Height', 'Weight', 'FCVC', 'NCP', 'CH2O', 'FAF', 'TUE',\n",
      "       'Gender', 'family_history_with_overweight', 'FAVC', 'CAEC', 'SMOKE',\n",
      "       'SCC', 'CALC', 'Automobile', 'Bike', 'Motorbike',\n",
      "       'Public_Transportation'],\n",
      "      dtype='object')\n"
     ]
    }
   ],
   "source": [
    "df_test = pd.read_csv('/kaggle/input/playground-series-s4e2/test.csv', index_col=0)\n",
    "\n",
    "df_test = apply_preprocessing(df_test)\n",
    "\n",
    "print('Train columns', df_all_features.columns)\n",
    "print('Test columns', df_test.columns)\n",
    "\n",
    "assert all(df_test.columns ==  df_all_features.columns), \"Columns in train and test dataset must be the same\""
   ]
  },
  {
   "cell_type": "code",
   "execution_count": 11,
   "id": "3a744f34",
   "metadata": {
    "execution": {
     "iopub.execute_input": "2024-02-08T13:39:17.171345Z",
     "iopub.status.busy": "2024-02-08T13:39:17.170963Z",
     "iopub.status.idle": "2024-02-08T13:39:24.032658Z",
     "shell.execute_reply": "2024-02-08T13:39:24.031234Z"
    },
    "papermill": {
     "duration": 6.886489,
     "end_time": "2024-02-08T13:39:24.037183",
     "exception": false,
     "start_time": "2024-02-08T13:39:17.150694",
     "status": "completed"
    },
    "tags": []
   },
   "outputs": [
    {
     "name": "stderr",
     "output_type": "stream",
     "text": [
      "/tmp/ipykernel_18/2909093292.py:1: MatplotlibDeprecationWarning: The seaborn styles shipped by Matplotlib are deprecated since 3.6, as they no longer correspond to the styles shipped by seaborn. However, they will remain available as 'seaborn-v0_8-<style>'. Alternatively, directly use the seaborn API instead.\n",
      "  plt.style.use('seaborn-dark')\n"
     ]
    },
    {
     "data": {
      "image/png": "[encoded data removed]",
      "text/plain": [
       "<Figure size 2000x1500 with 19 Axes>"
      ]
     },
     "metadata": {},
     "output_type": "display_data"
    }
   ],
   "source": [
    "plt.style.use('seaborn-dark')\n",
    "\n",
    "plt.figure(figsize=(20, 15))\n",
    "\n",
    "for i in range(df_all_features.shape[1]):\n",
    "    plt.subplot(5, 4, i+1)\n",
    "    plt.hist(df_all_features.iloc[:, i], bins=20, label='train')\n",
    "    plt.hist(df_test.iloc[:, i], bins=20,\n",
    "             alpha=1, label='test', color='C3')\n",
    "    plt.title(df_all_features.columns[i])\n",
    "    plt.grid()\n",
    "    plt.legend()\n",
    "plt.tight_layout()\n",
    "plt.show()"
   ]
  },
  {
   "cell_type": "markdown",
   "id": "16d4a4da",
   "metadata": {
    "papermill": {
     "duration": 0.02274,
     "end_time": "2024-02-08T13:39:24.082809",
     "exception": false,
     "start_time": "2024-02-08T13:39:24.060069",
     "status": "completed"
    },
    "tags": []
   },
   "source": [
    "### Labels"
   ]
  },
  {
   "cell_type": "code",
   "execution_count": 12,
   "id": "4b7dc676",
   "metadata": {
    "execution": {
     "iopub.execute_input": "2024-02-08T13:39:24.128936Z",
     "iopub.status.busy": "2024-02-08T13:39:24.128466Z",
     "iopub.status.idle": "2024-02-08T13:39:24.138780Z",
     "shell.execute_reply": "2024-02-08T13:39:24.137434Z"
    },
    "papermill": {
     "duration": 0.036497,
     "end_time": "2024-02-08T13:39:24.141389",
     "exception": false,
     "start_time": "2024-02-08T13:39:24.104892",
     "status": "completed"
    },
    "tags": []
   },
   "outputs": [
    {
     "data": {
      "text/plain": [
       "array(['Overweight_Level_II', 'Normal_Weight', 'Insufficient_Weight',\n",
       "       'Obesity_Type_III', 'Obesity_Type_II', 'Overweight_Level_I',\n",
       "       'Obesity_Type_I'], dtype=object)"
      ]
     },
     "execution_count": 12,
     "metadata": {},
     "output_type": "execute_result"
    }
   ],
   "source": [
    "labels['NObeyesdad'].unique()"
   ]
  },
  {
   "cell_type": "code",
   "execution_count": 13,
   "id": "56ab5b80",
   "metadata": {
    "execution": {
     "iopub.execute_input": "2024-02-08T13:39:24.189641Z",
     "iopub.status.busy": "2024-02-08T13:39:24.189196Z",
     "iopub.status.idle": "2024-02-08T13:39:24.207490Z",
     "shell.execute_reply": "2024-02-08T13:39:24.206293Z"
    },
    "papermill": {
     "duration": 0.045862,
     "end_time": "2024-02-08T13:39:24.210230",
     "exception": false,
     "start_time": "2024-02-08T13:39:24.164368",
     "status": "completed"
    },
    "tags": []
   },
   "outputs": [
    {
     "data": {
      "text/html": [
       "<div>\n",
       "<style scoped>\n",
       "    .dataframe tbody tr th:only-of-type {\n",
       "        vertical-align: middle;\n",
       "    }\n",
       "\n",
       "    .dataframe tbody tr th {\n",
       "        vertical-align: top;\n",
       "    }\n",
       "\n",
       "    .dataframe thead th {\n",
       "        text-align: right;\n",
       "    }\n",
       "</style>\n",
       "<table border=\"1\" class=\"dataframe\">\n",
       "  <thead>\n",
       "    <tr style=\"text-align: right;\">\n",
       "      <th></th>\n",
       "      <th>NObeyesdad</th>\n",
       "    </tr>\n",
       "    <tr>\n",
       "      <th>id</th>\n",
       "      <th></th>\n",
       "    </tr>\n",
       "  </thead>\n",
       "  <tbody>\n",
       "    <tr>\n",
       "      <th>0</th>\n",
       "      <td>3</td>\n",
       "    </tr>\n",
       "    <tr>\n",
       "      <th>1</th>\n",
       "      <td>1</td>\n",
       "    </tr>\n",
       "    <tr>\n",
       "      <th>2</th>\n",
       "      <td>0</td>\n",
       "    </tr>\n",
       "    <tr>\n",
       "      <th>3</th>\n",
       "      <td>6</td>\n",
       "    </tr>\n",
       "    <tr>\n",
       "      <th>4</th>\n",
       "      <td>3</td>\n",
       "    </tr>\n",
       "    <tr>\n",
       "      <th>...</th>\n",
       "      <td>...</td>\n",
       "    </tr>\n",
       "    <tr>\n",
       "      <th>20753</th>\n",
       "      <td>5</td>\n",
       "    </tr>\n",
       "    <tr>\n",
       "      <th>20754</th>\n",
       "      <td>0</td>\n",
       "    </tr>\n",
       "    <tr>\n",
       "      <th>20755</th>\n",
       "      <td>5</td>\n",
       "    </tr>\n",
       "    <tr>\n",
       "      <th>20756</th>\n",
       "      <td>3</td>\n",
       "    </tr>\n",
       "    <tr>\n",
       "      <th>20757</th>\n",
       "      <td>5</td>\n",
       "    </tr>\n",
       "  </tbody>\n",
       "</table>\n",
       "<p>20758 rows × 1 columns</p>\n",
       "</div>"
      ],
      "text/plain": [
       "       NObeyesdad\n",
       "id               \n",
       "0               3\n",
       "1               1\n",
       "2               0\n",
       "3               6\n",
       "4               3\n",
       "...           ...\n",
       "20753           5\n",
       "20754           0\n",
       "20755           5\n",
       "20756           3\n",
       "20757           5\n",
       "\n",
       "[20758 rows x 1 columns]"
      ]
     },
     "execution_count": 13,
     "metadata": {},
     "output_type": "execute_result"
    }
   ],
   "source": [
    "labels_encoded = labels.copy(deep=True)\n",
    "\n",
    "dict_conversion = {'Insufficient_Weight':0,\n",
    "                   'Normal_Weight':1,\n",
    "                   'Overweight_Level_I':2,\n",
    "                   'Overweight_Level_II':3,\n",
    "                   'Obesity_Type_I':4,\n",
    "                   'Obesity_Type_II':5,\n",
    "                   'Obesity_Type_III':6}\n",
    "\n",
    "labels_encoded['NObeyesdad'] = labels_encoded['NObeyesdad'].map(dict_conversion)\n",
    "labels_encoded"
   ]
  },
  {
   "cell_type": "code",
   "execution_count": 14,
   "id": "e9bb0acd",
   "metadata": {
    "execution": {
     "iopub.execute_input": "2024-02-08T13:39:24.319539Z",
     "iopub.status.busy": "2024-02-08T13:39:24.319161Z",
     "iopub.status.idle": "2024-02-08T13:39:24.330444Z",
     "shell.execute_reply": "2024-02-08T13:39:24.329016Z"
    },
    "papermill": {
     "duration": 0.037946,
     "end_time": "2024-02-08T13:39:24.333005",
     "exception": false,
     "start_time": "2024-02-08T13:39:24.295059",
     "status": "completed"
    },
    "tags": []
   },
   "outputs": [
    {
     "data": {
      "text/plain": [
       "NObeyesdad\n",
       "6             4046\n",
       "5             3248\n",
       "1             3082\n",
       "4             2910\n",
       "0             2523\n",
       "3             2522\n",
       "2             2427\n",
       "Name: count, dtype: int64"
      ]
     },
     "execution_count": 14,
     "metadata": {},
     "output_type": "execute_result"
    }
   ],
   "source": [
    "labels_encoded.value_counts()"
   ]
  },
  {
   "cell_type": "code",
   "execution_count": 15,
   "id": "d0e45a11",
   "metadata": {
    "execution": {
     "iopub.execute_input": "2024-02-08T13:39:24.381444Z",
     "iopub.status.busy": "2024-02-08T13:39:24.380278Z",
     "iopub.status.idle": "2024-02-08T13:39:24.615927Z",
     "shell.execute_reply": "2024-02-08T13:39:24.614436Z"
    },
    "papermill": {
     "duration": 0.262707,
     "end_time": "2024-02-08T13:39:24.618448",
     "exception": false,
     "start_time": "2024-02-08T13:39:24.355741",
     "status": "completed"
    },
    "tags": []
   },
   "outputs": [
    {
     "name": "stderr",
     "output_type": "stream",
     "text": [
      "/tmp/ipykernel_18/341045427.py:1: MatplotlibDeprecationWarning: The seaborn styles shipped by Matplotlib are deprecated since 3.6, as they no longer correspond to the styles shipped by seaborn. However, they will remain available as 'seaborn-v0_8-<style>'. Alternatively, directly use the seaborn API instead.\n",
      "  plt.style.use('seaborn-dark')\n"
     ]
    },
    {
     "data": {
      "image/png": "[encoded data removed]",
      "text/plain": [
       "<Figure size 1000x600 with 1 Axes>"
      ]
     },
     "metadata": {},
     "output_type": "display_data"
    }
   ],
   "source": [
    "plt.style.use('seaborn-dark')\n",
    "\n",
    "plt.figure(figsize=(10, 6))\n",
    "plt.hist(labels_encoded, bins=np.arange(0, 8)-0.25, width=0.5, align='mid')\n",
    "plt.grid()\n",
    "plt.xticks(np.arange(0, 6.1),\n",
    "           ['Insufficient', 'Normal', 'Overweight I', 'Overweight II', 'Obesity I', 'Obesity II', 'Obesity III'],\n",
    "           rotation=90)\n",
    "plt.ylabel('Frequency')\n",
    "plt.show()"
   ]
  },
  {
   "cell_type": "markdown",
   "id": "be5036c1",
   "metadata": {
    "papermill": {
     "duration": 0.023025,
     "end_time": "2024-02-08T13:39:24.664908",
     "exception": false,
     "start_time": "2024-02-08T13:39:24.641883",
     "status": "completed"
    },
    "tags": []
   },
   "source": [
    "# 3. Prepare data for machine learning"
   ]
  },
  {
   "cell_type": "code",
   "execution_count": 16,
   "id": "24ee9cce",
   "metadata": {
    "execution": {
     "iopub.execute_input": "2024-02-08T13:39:24.713887Z",
     "iopub.status.busy": "2024-02-08T13:39:24.713462Z",
     "iopub.status.idle": "2024-02-08T13:39:25.077765Z",
     "shell.execute_reply": "2024-02-08T13:39:25.076352Z"
    },
    "papermill": {
     "duration": 0.392407,
     "end_time": "2024-02-08T13:39:25.080803",
     "exception": false,
     "start_time": "2024-02-08T13:39:24.688396",
     "status": "completed"
    },
    "tags": []
   },
   "outputs": [
    {
     "name": "stdout",
     "output_type": "stream",
     "text": [
      "Number of samples 20758\n",
      "Number of featires 19\n"
     ]
    }
   ],
   "source": [
    "X = df_all_features\n",
    "y = np.ravel(labels_encoded)\n",
    "\n",
    "# compare train and test data\n",
    "X_test = df_test\n",
    "assert all(X_test.columns == X.columns), \"Columns of training and test data must be the same\"\n",
    "\n",
    "print('Number of samples', len(X))\n",
    "print('Number of featires', X.shape[1])\n",
    "\n",
    "from sklearn.model_selection import train_test_split\n",
    "\n",
    "X_train, X_validation, y_train, y_validation = train_test_split(X, y,\n",
    "                                                                test_size=0.2, \n",
    "                                                                random_state=42,\n",
    "                                                                stratify=y)"
   ]
  },
  {
   "cell_type": "markdown",
   "id": "4e0f2a33",
   "metadata": {
    "papermill": {
     "duration": 0.024098,
     "end_time": "2024-02-08T13:39:25.128822",
     "exception": false,
     "start_time": "2024-02-08T13:39:25.104724",
     "status": "completed"
    },
    "tags": []
   },
   "source": [
    "# 4. Fit the data with baseline models"
   ]
  },
  {
   "cell_type": "code",
   "execution_count": 17,
   "id": "fb03c1b0",
   "metadata": {
    "execution": {
     "iopub.execute_input": "2024-02-08T13:39:25.179956Z",
     "iopub.status.busy": "2024-02-08T13:39:25.179491Z",
     "iopub.status.idle": "2024-02-08T13:39:25.187701Z",
     "shell.execute_reply": "2024-02-08T13:39:25.186147Z"
    },
    "papermill": {
     "duration": 0.037569,
     "end_time": "2024-02-08T13:39:25.190490",
     "exception": false,
     "start_time": "2024-02-08T13:39:25.152921",
     "status": "completed"
    },
    "tags": []
   },
   "outputs": [
    {
     "data": {
      "text/plain": [
       "\"\\nfrom sklearn.utils.class_weight import compute_class_weight\\n\\n# calculate class weights based on the training data\\nclass_weights = compute_class_weight('balanced', \\n                                     classes=np.unique(y),\\n                                     y=y)\\n\\nclass_weights = dict(zip(np.unique(y), class_weights))\\nclass_weights\\n\""
      ]
     },
     "execution_count": 17,
     "metadata": {},
     "output_type": "execute_result"
    }
   ],
   "source": [
    "'''\n",
    "from sklearn.utils.class_weight import compute_class_weight\n",
    "\n",
    "# calculate class weights based on the training data\n",
    "class_weights = compute_class_weight('balanced', \n",
    "                                     classes=np.unique(y),\n",
    "                                     y=y)\n",
    "\n",
    "class_weights = dict(zip(np.unique(y), class_weights))\n",
    "class_weights\n",
    "'''"
   ]
  },
  {
   "cell_type": "code",
   "execution_count": 18,
   "id": "f3a8a1b2",
   "metadata": {
    "execution": {
     "iopub.execute_input": "2024-02-08T13:39:25.240357Z",
     "iopub.status.busy": "2024-02-08T13:39:25.239970Z",
     "iopub.status.idle": "2024-02-08T13:39:59.634864Z",
     "shell.execute_reply": "2024-02-08T13:39:59.633894Z"
    },
    "papermill": {
     "duration": 34.447606,
     "end_time": "2024-02-08T13:39:59.662021",
     "exception": false,
     "start_time": "2024-02-08T13:39:25.214415",
     "status": "completed"
    },
    "tags": []
   },
   "outputs": [
    {
     "name": "stdout",
     "output_type": "stream",
     "text": [
      "[LightGBM] [Info] Auto-choosing row-wise multi-threading, the overhead of testing was 0.006640 seconds.\n",
      "You can set `force_row_wise=true` to remove the overhead.\n",
      "And if memory is not enough, you can set `force_col_wise=true`.\n",
      "[LightGBM] [Info] Total Bins 2047\n",
      "[LightGBM] [Info] Number of data points in the train set: 16606, number of used features: 19\n",
      "[LightGBM] [Info] Start training from score -1.945910\n",
      "[LightGBM] [Info] Start training from score -1.945910\n",
      "[LightGBM] [Info] Start training from score -1.945910\n",
      "[LightGBM] [Info] Start training from score -1.945910\n",
      "[LightGBM] [Info] Start training from score -1.945910\n",
      "[LightGBM] [Info] Start training from score -1.945910\n",
      "[LightGBM] [Info] Start training from score -1.945910\n"
     ]
    },
    {
     "data": {
      "text/html": [
       "<style>#sk-container-id-1 {color: black;background-color: white;}#sk-container-id-1 pre{padding: 0;}#sk-container-id-1 div.sk-toggleable {background-color: white;}#sk-container-id-1 label.sk-toggleable__label {cursor: pointer;display: block;width: 100%;margin-bottom: 0;padding: 0.3em;box-sizing: border-box;text-align: center;}#sk-container-id-1 label.sk-toggleable__label-arrow:before {content: \"▸\";float: left;margin-right: 0.25em;color: #696969;}#sk-container-id-1 label.sk-toggleable__label-arrow:hover:before {color: black;}#sk-container-id-1 div.sk-estimator:hover label.sk-toggleable__label-arrow:before {color: black;}#sk-container-id-1 div.sk-toggleable__content {max-height: 0;max-width: 0;overflow: hidden;text-align: left;background-color: #f0f8ff;}#sk-container-id-1 div.sk-toggleable__content pre {margin: 0.2em;color: black;border-radius: 0.25em;background-color: #f0f8ff;}#sk-container-id-1 input.sk-toggleable__control:checked~div.sk-toggleable__content {max-height: 200px;max-width: 100%;overflow: auto;}#sk-container-id-1 input.sk-toggleable__control:checked~label.sk-toggleable__label-arrow:before {content: \"▾\";}#sk-container-id-1 div.sk-estimator input.sk-toggleable__control:checked~label.sk-toggleable__label {background-color: #d4ebff;}#sk-container-id-1 div.sk-label input.sk-toggleable__control:checked~label.sk-toggleable__label {background-color: #d4ebff;}#sk-container-id-1 input.sk-hidden--visually {border: 0;clip: rect(1px 1px 1px 1px);clip: rect(1px, 1px, 1px, 1px);height: 1px;margin: -1px;overflow: hidden;padding: 0;position: absolute;width: 1px;}#sk-container-id-1 div.sk-estimator {font-family: monospace;background-color: #f0f8ff;border: 1px dotted black;border-radius: 0.25em;box-sizing: border-box;margin-bottom: 0.5em;}#sk-container-id-1 div.sk-estimator:hover {background-color: #d4ebff;}#sk-container-id-1 div.sk-parallel-item::after {content: \"\";width: 100%;border-bottom: 1px solid gray;flex-grow: 1;}#sk-container-id-1 div.sk-label:hover label.sk-toggleable__label {background-color: #d4ebff;}#sk-container-id-1 div.sk-serial::before {content: \"\";position: absolute;border-left: 1px solid gray;box-sizing: border-box;top: 0;bottom: 0;left: 50%;z-index: 0;}#sk-container-id-1 div.sk-serial {display: flex;flex-direction: column;align-items: center;background-color: white;padding-right: 0.2em;padding-left: 0.2em;position: relative;}#sk-container-id-1 div.sk-item {position: relative;z-index: 1;}#sk-container-id-1 div.sk-parallel {display: flex;align-items: stretch;justify-content: center;background-color: white;position: relative;}#sk-container-id-1 div.sk-item::before, #sk-container-id-1 div.sk-parallel-item::before {content: \"\";position: absolute;border-left: 1px solid gray;box-sizing: border-box;top: 0;bottom: 0;left: 50%;z-index: -1;}#sk-container-id-1 div.sk-parallel-item {display: flex;flex-direction: column;z-index: 1;position: relative;background-color: white;}#sk-container-id-1 div.sk-parallel-item:first-child::after {align-self: flex-end;width: 50%;}#sk-container-id-1 div.sk-parallel-item:last-child::after {align-self: flex-start;width: 50%;}#sk-container-id-1 div.sk-parallel-item:only-child::after {width: 0;}#sk-container-id-1 div.sk-dashed-wrapped {border: 1px dashed gray;margin: 0 0.4em 0.5em 0.4em;box-sizing: border-box;padding-bottom: 0.4em;background-color: white;}#sk-container-id-1 div.sk-label label {font-family: monospace;font-weight: bold;display: inline-block;line-height: 1.2em;}#sk-container-id-1 div.sk-label-container {text-align: center;}#sk-container-id-1 div.sk-container {/* jupyter's `normalize.less` sets `[hidden] { display: none; }` but bootstrap.min.css set `[hidden] { display: none !important; }` so we also need the `!important` here to be able to override the default hidden behavior on the sphinx rendered scikit-learn.org. See: https://github.com/scikit-learn/scikit-learn/issues/21755 */display: inline-block !important;position: relative;}#sk-container-id-1 div.sk-text-repr-fallback {display: none;}</style><div id=\"sk-container-id-1\" class=\"sk-top-container\"><div class=\"sk-text-repr-fallback\"><pre>XGBClassifier(base_score=None, booster=None, callbacks=None,\n",
       "              colsample_bylevel=None, colsample_bynode=None,\n",
       "              colsample_bytree=None, device=None, early_stopping_rounds=None,\n",
       "              enable_categorical=False, eval_metric=None, feature_types=None,\n",
       "              gamma=None, grow_policy=None, importance_type=None,\n",
       "              interaction_constraints=None, learning_rate=None, max_bin=None,\n",
       "              max_cat_threshold=None, max_cat_to_onehot=None,\n",
       "              max_delta_step=None, max_depth=None, max_leaves=None,\n",
       "              min_child_weight=None, missing=nan, monotone_constraints=None,\n",
       "              multi_strategy=None, n_estimators=None, n_jobs=None,\n",
       "              num_parallel_tree=None, objective=&#x27;multi:softprob&#x27;, ...)</pre><b>In a Jupyter environment, please rerun this cell to show the HTML representation or trust the notebook. <br />On GitHub, the HTML representation is unable to render, please try loading this page with nbviewer.org.</b></div><div class=\"sk-container\" hidden><div class=\"sk-item\"><div class=\"sk-estimator sk-toggleable\"><input class=\"sk-toggleable__control sk-hidden--visually\" id=\"sk-estimator-id-1\" type=\"checkbox\" checked><label for=\"sk-estimator-id-1\" class=\"sk-toggleable__label sk-toggleable__label-arrow\">XGBClassifier</label><div class=\"sk-toggleable__content\"><pre>XGBClassifier(base_score=None, booster=None, callbacks=None,\n",
       "              colsample_bylevel=None, colsample_bynode=None,\n",
       "              colsample_bytree=None, device=None, early_stopping_rounds=None,\n",
       "              enable_categorical=False, eval_metric=None, feature_types=None,\n",
       "              gamma=None, grow_policy=None, importance_type=None,\n",
       "              interaction_constraints=None, learning_rate=None, max_bin=None,\n",
       "              max_cat_threshold=None, max_cat_to_onehot=None,\n",
       "              max_delta_step=None, max_depth=None, max_leaves=None,\n",
       "              min_child_weight=None, missing=nan, monotone_constraints=None,\n",
       "              multi_strategy=None, n_estimators=None, n_jobs=None,\n",
       "              num_parallel_tree=None, objective=&#x27;multi:softprob&#x27;, ...)</pre></div></div></div></div></div>"
      ],
      "text/plain": [
       "XGBClassifier(base_score=None, booster=None, callbacks=None,\n",
       "              colsample_bylevel=None, colsample_bynode=None,\n",
       "              colsample_bytree=None, device=None, early_stopping_rounds=None,\n",
       "              enable_categorical=False, eval_metric=None, feature_types=None,\n",
       "              gamma=None, grow_policy=None, importance_type=None,\n",
       "              interaction_constraints=None, learning_rate=None, max_bin=None,\n",
       "              max_cat_threshold=None, max_cat_to_onehot=None,\n",
       "              max_delta_step=None, max_depth=None, max_leaves=None,\n",
       "              min_child_weight=None, missing=nan, monotone_constraints=None,\n",
       "              multi_strategy=None, n_estimators=None, n_jobs=None,\n",
       "              num_parallel_tree=None, objective='multi:softprob', ...)"
      ]
     },
     "execution_count": 18,
     "metadata": {},
     "output_type": "execute_result"
    }
   ],
   "source": [
    "from lightgbm import LGBMClassifier\n",
    "from sklearn.ensemble import GradientBoostingClassifier, RandomForestClassifier\n",
    "from catboost import CatBoostClassifier, Pool\n",
    "from xgboost import XGBClassifier\n",
    "\n",
    "clf1 = GradientBoostingClassifier()\n",
    "clf2 = RandomForestClassifier(class_weight='balanced')\n",
    "clf3 = LGBMClassifier(class_weight='balanced')\n",
    "clf4 = XGBClassifier()\n",
    "\n",
    "clf1.fit(X_train, y_train)\n",
    "clf2.fit(X_train, y_train)\n",
    "clf3.fit(X_train, y_train)\n",
    "clf4.fit(X_train, y_train)"
   ]
  },
  {
   "cell_type": "code",
   "execution_count": 19,
   "id": "4f315550",
   "metadata": {
    "execution": {
     "iopub.execute_input": "2024-02-08T13:39:59.713523Z",
     "iopub.status.busy": "2024-02-08T13:39:59.712813Z",
     "iopub.status.idle": "2024-02-08T13:39:59.719148Z",
     "shell.execute_reply": "2024-02-08T13:39:59.718275Z"
    },
    "papermill": {
     "duration": 0.035442,
     "end_time": "2024-02-08T13:39:59.721675",
     "exception": false,
     "start_time": "2024-02-08T13:39:59.686233",
     "status": "completed"
    },
    "tags": []
   },
   "outputs": [],
   "source": [
    "def evaluate_model(clf):\n",
    "    y_pred_train = clf.predict(X_train)\n",
    "    y_pred_test = clf.predict(X_validation)\n",
    "    train_score = np.mean(y_pred_train == y_train)\n",
    "    validation_score = np.mean(y_pred_test == y_validation)\n",
    "\n",
    "    print('Train score', round(train_score, 3))\n",
    "    print('Test score', round(validation_score, 3))\n",
    "    \n",
    "    if train_score - validation_score > 0.05:\n",
    "        print('Overfitting detected')\n",
    "        \n",
    "    print('===========================')"
   ]
  },
  {
   "cell_type": "code",
   "execution_count": 20,
   "id": "05939f1c",
   "metadata": {
    "execution": {
     "iopub.execute_input": "2024-02-08T13:39:59.774210Z",
     "iopub.status.busy": "2024-02-08T13:39:59.773490Z",
     "iopub.status.idle": "2024-02-08T13:40:02.060362Z",
     "shell.execute_reply": "2024-02-08T13:40:02.058650Z"
    },
    "papermill": {
     "duration": 2.316851,
     "end_time": "2024-02-08T13:40:02.063360",
     "exception": false,
     "start_time": "2024-02-08T13:39:59.746509",
     "status": "completed"
    },
    "tags": []
   },
   "outputs": [
    {
     "name": "stdout",
     "output_type": "stream",
     "text": [
      "Random Forest\n",
      "Train score 1.0\n",
      "Test score 0.896\n",
      "Overfitting detected\n",
      "===========================\n",
      "LightGBM\n",
      "Train score 0.979\n",
      "Test score 0.905\n",
      "Overfitting detected\n",
      "===========================\n",
      "Gradient Boosting\n",
      "Train score 0.923\n",
      "Test score 0.903\n",
      "===========================\n",
      "XGBoost\n",
      "Train score 0.987\n",
      "Test score 0.905\n",
      "Overfitting detected\n",
      "===========================\n"
     ]
    }
   ],
   "source": [
    "print('Random Forest')\n",
    "evaluate_model(clf2)\n",
    "\n",
    "print('LightGBM')\n",
    "evaluate_model(clf3)\n",
    "\n",
    "print('Gradient Boosting')\n",
    "evaluate_model(clf1)\n",
    "\n",
    "print('XGBoost')\n",
    "evaluate_model(clf4)"
   ]
  },
  {
   "cell_type": "markdown",
   "id": "3a769844",
   "metadata": {
    "papermill": {
     "duration": 0.02488,
     "end_time": "2024-02-08T13:40:02.113359",
     "exception": false,
     "start_time": "2024-02-08T13:40:02.088479",
     "status": "completed"
    },
    "tags": []
   },
   "source": [
    "# 5. Hyperparameter tuning\n",
    "We fine-tune the XGBoost Classifier defined in the previous section, using the optimizer framework called `Optuna`."
   ]
  },
  {
   "cell_type": "code",
   "execution_count": 21,
   "id": "e0ca913e",
   "metadata": {
    "execution": {
     "iopub.execute_input": "2024-02-08T13:40:02.165387Z",
     "iopub.status.busy": "2024-02-08T13:40:02.164985Z",
     "iopub.status.idle": "2024-02-08T13:40:03.764716Z",
     "shell.execute_reply": "2024-02-08T13:40:03.763300Z"
    },
    "papermill": {
     "duration": 1.629878,
     "end_time": "2024-02-08T13:40:03.768231",
     "exception": false,
     "start_time": "2024-02-08T13:40:02.138353",
     "status": "completed"
    },
    "tags": []
   },
   "outputs": [],
   "source": [
    "import optuna\n",
    "from sklearn.model_selection import cross_validate\n",
    "\n",
    "def objective(trial):\n",
    "    max_depth = trial.suggest_int('max_depth', 4, 10)\n",
    "    n_estimators = trial.suggest_int('n_estimators', 500, 2000)\n",
    "    gamma = trial.suggest_float('gamma', 0, 1)\n",
    "    reg_alpha = trial.suggest_float('reg_alpha', 0, 1)\n",
    "    reg_lambda = trial.suggest_float('reg_lambda', 0, 1)\n",
    "    min_child_weight = trial.suggest_int('min_child_weight', 0, 10)\n",
    "    subsample = trial.suggest_float('subsample', 0, 1)\n",
    "    colsample_bytree = trial.suggest_float('colsample_bytree', 0, 1)\n",
    "    learning_rate = trial.suggest_float('learning_rate', 0, 1)\n",
    "    \n",
    "    print('Training the model with', X.shape[1], 'features')\n",
    "    \n",
    "    # XGBoost\n",
    "    params = {'n_estimators': n_estimators,\n",
    "              'learning_rate': learning_rate,\n",
    "              'gamma': gamma,\n",
    "              'reg_alpha': reg_alpha,\n",
    "              'reg_lambda': reg_lambda,\n",
    "              'max_depth': max_depth,\n",
    "              'min_child_weight': min_child_weight,\n",
    "              'subsample': subsample,\n",
    "              'colsample_bytree': colsample_bytree,\n",
    "              'eval_metric':'mlogloss'}\n",
    "        \n",
    "    clf = XGBClassifier(**params)\n",
    "    \n",
    "    '''\n",
    "    # LightGBM\n",
    "    params = {'learning_rate': learning_rate,\n",
    "              'n_estimators': n_estimators,\n",
    "              'max_depth': max_depth,\n",
    "              'lambda_l1': reg_alpha,\n",
    "              'lambda_l2': reg_lambda,\n",
    "              'colsample_bytree': colsample_bytree, \n",
    "              'subsample': subsample,    \n",
    "              'min_child_samples': min_child_weight,\n",
    "              'class_weight': 'balanced'}\n",
    "    \n",
    "    clf = LGBMClassifier(**params, verbose = -1, verbosity = -1)\n",
    "    '''\n",
    "    \n",
    "    cv_results = cross_validate(clf, X, y, cv=5, scoring='accuracy')\n",
    "    \n",
    "    validation_score = np.mean(cv_results['test_score'])\n",
    "    \n",
    "    return validation_score"
   ]
  },
  {
   "cell_type": "code",
   "execution_count": 22,
   "id": "1cc3864f",
   "metadata": {
    "execution": {
     "iopub.execute_input": "2024-02-08T13:40:03.820415Z",
     "iopub.status.busy": "2024-02-08T13:40:03.819980Z",
     "iopub.status.idle": "2024-02-08T13:40:03.824852Z",
     "shell.execute_reply": "2024-02-08T13:40:03.823512Z"
    },
    "papermill": {
     "duration": 0.03426,
     "end_time": "2024-02-08T13:40:03.827407",
     "exception": false,
     "start_time": "2024-02-08T13:40:03.793147",
     "status": "completed"
    },
    "tags": []
   },
   "outputs": [],
   "source": [
    "# Uncomment this section if you want to do hyperparameter tuning\n",
    "\n",
    "#study = optuna.create_study(direction=\"maximize\")\n",
    "#study.optimize(objective, n_trials=100)"
   ]
  },
  {
   "cell_type": "code",
   "execution_count": 23,
   "id": "7b3a93f4",
   "metadata": {
    "execution": {
     "iopub.execute_input": "2024-02-08T13:40:03.879721Z",
     "iopub.status.busy": "2024-02-08T13:40:03.879266Z",
     "iopub.status.idle": "2024-02-08T13:40:03.884521Z",
     "shell.execute_reply": "2024-02-08T13:40:03.883262Z"
    },
    "papermill": {
     "duration": 0.034848,
     "end_time": "2024-02-08T13:40:03.887308",
     "exception": false,
     "start_time": "2024-02-08T13:40:03.852460",
     "status": "completed"
    },
    "tags": []
   },
   "outputs": [],
   "source": [
    "#df_study = study.trials_dataframe()\n",
    "#df_study = df_study.sort_values(by='value', ascending=False)\n",
    "\n",
    "#df_study.head()"
   ]
  },
  {
   "cell_type": "code",
   "execution_count": 24,
   "id": "a12d455b",
   "metadata": {
    "execution": {
     "iopub.execute_input": "2024-02-08T13:40:03.941353Z",
     "iopub.status.busy": "2024-02-08T13:40:03.939043Z",
     "iopub.status.idle": "2024-02-08T13:40:03.950224Z",
     "shell.execute_reply": "2024-02-08T13:40:03.949125Z"
    },
    "papermill": {
     "duration": 0.039888,
     "end_time": "2024-02-08T13:40:03.952703",
     "exception": false,
     "start_time": "2024-02-08T13:40:03.912815",
     "status": "completed"
    },
    "tags": []
   },
   "outputs": [
    {
     "name": "stdout",
     "output_type": "stream",
     "text": [
      "{'max_depth': 10, 'n_estimators': 1224, 'gamma': 0.8323134488556143, 'reg_alpha': 0.9211957174104992, 'reg_lambda': 0.8522905506401445, 'min_child_weight': 4, 'subsample': 0.9232723357974977, 'colsample_bytree': 0.4785000546841373, 'learning_rate': 0.06435693511798936}\n"
     ]
    }
   ],
   "source": [
    "#best_params_XGB = study.best_params\n",
    "\n",
    "# Best parameters for XGBoost obtained after Optuna optimization\n",
    "best_params_XGB = {'max_depth': 10, \n",
    "                   'n_estimators': 1224, \n",
    "                   'gamma': 0.8323134488556143, \n",
    "                   'reg_alpha': 0.9211957174104992, \n",
    "                   'reg_lambda': 0.8522905506401445, \n",
    "                   'min_child_weight': 4, \n",
    "                   'subsample': 0.9232723357974977, \n",
    "                   'colsample_bytree': 0.4785000546841373, \n",
    "                   'learning_rate': 0.06435693511798936}\n",
    "\n",
    "print(best_params_XGB)"
   ]
  },
  {
   "cell_type": "markdown",
   "id": "18bf115f",
   "metadata": {
    "papermill": {
     "duration": 0.025119,
     "end_time": "2024-02-08T13:40:04.003640",
     "exception": false,
     "start_time": "2024-02-08T13:40:03.978521",
     "status": "completed"
    },
    "tags": []
   },
   "source": [
    "Also hyperparameters for LightGBM Classifier have been optimized. In case you want to test it, please uncomment the following cell."
   ]
  },
  {
   "cell_type": "code",
   "execution_count": 25,
   "id": "0a7ec0b6",
   "metadata": {
    "execution": {
     "iopub.execute_input": "2024-02-08T13:40:04.055040Z",
     "iopub.status.busy": "2024-02-08T13:40:04.054654Z",
     "iopub.status.idle": "2024-02-08T13:40:04.061834Z",
     "shell.execute_reply": "2024-02-08T13:40:04.060506Z"
    },
    "papermill": {
     "duration": 0.035912,
     "end_time": "2024-02-08T13:40:04.064446",
     "exception": false,
     "start_time": "2024-02-08T13:40:04.028534",
     "status": "completed"
    },
    "tags": []
   },
   "outputs": [
    {
     "name": "stdout",
     "output_type": "stream",
     "text": [
      "{'max_depth': 5, 'n_estimators': 1086, 'gamma': 0.21718199012686834, 'lambda_l1': 0.9770735787707583, 'lambda_l2': 0.8576215710818857, 'min_child_samples': 4, 'subsample': 0.9343204270146038, 'colsample_bytree': 0.6782348565590313, 'learning_rate': 0.014669435683414833}\n"
     ]
    }
   ],
   "source": [
    "# Best parameters for LightGBM obtained after Optuna optimization\n",
    "best_params_LGBM = {'max_depth': 5, \n",
    "                    'n_estimators': 1086, \n",
    "                    'gamma': 0.21718199012686834, \n",
    "                    'lambda_l1': 0.9770735787707583, \n",
    "                    'lambda_l2': 0.8576215710818857, \n",
    "                    'min_child_samples': 4, \n",
    "                    'subsample': 0.9343204270146038, \n",
    "                    'colsample_bytree': 0.6782348565590313, \n",
    "                    'learning_rate': 0.014669435683414833}\n",
    "\n",
    "print(best_params_LGBM)"
   ]
  },
  {
   "cell_type": "markdown",
   "id": "d0c7584a",
   "metadata": {
    "papermill": {
     "duration": 0.025526,
     "end_time": "2024-02-08T13:40:04.115256",
     "exception": false,
     "start_time": "2024-02-08T13:40:04.089730",
     "status": "completed"
    },
    "tags": []
   },
   "source": [
    "# 6. Train the best model and export the results"
   ]
  },
  {
   "cell_type": "code",
   "execution_count": 26,
   "id": "92ab562d",
   "metadata": {
    "execution": {
     "iopub.execute_input": "2024-02-08T13:40:04.167285Z",
     "iopub.status.busy": "2024-02-08T13:40:04.166900Z",
     "iopub.status.idle": "2024-02-08T13:40:33.884993Z",
     "shell.execute_reply": "2024-02-08T13:40:33.883317Z"
    },
    "papermill": {
     "duration": 29.747208,
     "end_time": "2024-02-08T13:40:33.887955",
     "exception": false,
     "start_time": "2024-02-08T13:40:04.140747",
     "status": "completed"
    },
    "tags": []
   },
   "outputs": [],
   "source": [
    "# train the best model\n",
    "\n",
    "clf = XGBClassifier(**best_params_XGB)\n",
    "\n",
    "#clf = LGBMClassifier(**best_params_LGBM, verbose = -1, verbosity = -1)\n",
    "\n",
    "clf.fit(X, y)\n",
    "\n",
    "\n",
    "predictions = clf.predict(X_test)"
   ]
  },
  {
   "cell_type": "code",
   "execution_count": 27,
   "id": "848b4dab",
   "metadata": {
    "execution": {
     "iopub.execute_input": "2024-02-08T13:40:33.941017Z",
     "iopub.status.busy": "2024-02-08T13:40:33.940571Z",
     "iopub.status.idle": "2024-02-08T13:40:33.997924Z",
     "shell.execute_reply": "2024-02-08T13:40:33.996664Z"
    },
    "papermill": {
     "duration": 0.087098,
     "end_time": "2024-02-08T13:40:34.001026",
     "exception": false,
     "start_time": "2024-02-08T13:40:33.913928",
     "status": "completed"
    },
    "tags": []
   },
   "outputs": [],
   "source": [
    "reverse_dict_conversion = dict(zip(dict_conversion.values(), dict_conversion.keys()))\n",
    "\n",
    "df_submission = pd.read_csv('/kaggle/input/playground-series-s4e2/sample_submission.csv')\n",
    "\n",
    "df_submission['NObeyesdad'] = predictions\n",
    "df_submission['NObeyesdad'] = df_submission['NObeyesdad'].map(reverse_dict_conversion)\n",
    "\n",
    "df_submission.to_csv('submission.csv', index=False)"
   ]
  },
  {
   "cell_type": "code",
   "execution_count": 28,
   "id": "88912e97",
   "metadata": {
    "execution": {
     "iopub.execute_input": "2024-02-08T13:40:34.052775Z",
     "iopub.status.busy": "2024-02-08T13:40:34.052349Z",
     "iopub.status.idle": "2024-02-08T13:40:34.417078Z",
     "shell.execute_reply": "2024-02-08T13:40:34.415650Z"
    },
    "papermill": {
     "duration": 0.394619,
     "end_time": "2024-02-08T13:40:34.420599",
     "exception": false,
     "start_time": "2024-02-08T13:40:34.025980",
     "status": "completed"
    },
    "tags": []
   },
   "outputs": [
    {
     "data": {
      "image/png": "[encoded data removed]",
      "text/plain": [
       "<Figure size 640x480 with 1 Axes>"
      ]
     },
     "metadata": {},
     "output_type": "display_data"
    }
   ],
   "source": [
    "df_features = pd.DataFrame(clf.feature_importances_, index=X.columns, columns=['Feature importances'])\n",
    "df_features = df_features.sort_values('Feature importances')\n",
    "\n",
    "df_features.plot(kind='barh')\n",
    "plt.grid()\n",
    "plt.xlabel('Feature importance')\n",
    "plt.show()"
   ]
  },
  {
   "cell_type": "markdown",
   "id": "255c1f86",
   "metadata": {
    "papermill": {
     "duration": 0.026014,
     "end_time": "2024-02-08T13:40:34.472642",
     "exception": false,
     "start_time": "2024-02-08T13:40:34.446628",
     "status": "completed"
    },
    "tags": []
   },
   "source": [
    "# 7. Try to improve accuracy using cross validation\n",
    "In this section we use a tuned XGBoost together with cross-validation.\n",
    "We make 5 predictions for each sample and then we compute the average probability to assign the label."
   ]
  },
  {
   "cell_type": "code",
   "execution_count": 29,
   "id": "3a4cc078",
   "metadata": {
    "execution": {
     "iopub.execute_input": "2024-02-08T13:40:34.527241Z",
     "iopub.status.busy": "2024-02-08T13:40:34.526403Z",
     "iopub.status.idle": "2024-02-08T13:40:34.540847Z",
     "shell.execute_reply": "2024-02-08T13:40:34.539605Z"
    },
    "papermill": {
     "duration": 0.044686,
     "end_time": "2024-02-08T13:40:34.543710",
     "exception": false,
     "start_time": "2024-02-08T13:40:34.499024",
     "status": "completed"
    },
    "tags": []
   },
   "outputs": [],
   "source": [
    "from sklearn.model_selection import StratifiedKFold\n",
    "from sklearn.metrics import accuracy_score\n",
    "\n",
    "def train_evaluate_model(X, y, X_test):\n",
    "    # use Stratified KFold\n",
    "    skf = StratifiedKFold(n_splits=5, shuffle=True, random_state=42)\n",
    "    skf.get_n_splits(X, y)\n",
    "\n",
    "    scores = []\n",
    "    predictions = []\n",
    "    clfs = []\n",
    "\n",
    "    for i, (train_index, val_index) in enumerate(skf.split(X, y)):\n",
    "        print('Fitting with k-fold', i+1, 'out of', len(train_index))\n",
    "        X_train = np.array(X)[train_index, :]\n",
    "        y_train = np.array(y)[train_index]\n",
    "        X_val = np.array(X)[val_index, :]\n",
    "        y_val = np.array(y)[val_index]\n",
    "        \n",
    "        print('Training on', len(X_train), 'samples')\n",
    "        print('Evaluating on', len(X_val), 'samples')\n",
    "        \n",
    "        clf = XGBClassifier(**best_params_XGB)\n",
    "        clf.fit(X=X_train, y=y_train, \n",
    "                eval_set=[(X_train, y_train), (X_val, y_val)],\n",
    "                early_stopping_rounds=10,\n",
    "                verbose=50)\n",
    "        \n",
    "        #clf = LGBMClassifier(**best_params_LGBM, verbose = -1, verbosity = -1)\n",
    "        #clf.fit(X_train, y_train, eval_set=[(X_train, y_train), (X_val, y_val)])\n",
    "        \n",
    "        y_pred_val = clf.predict(X_val)\n",
    "\n",
    "        new_score = accuracy_score(y_val, y_pred_val)\n",
    "        print('validation score is', new_score)\n",
    "        scores.append(new_score)\n",
    "\n",
    "        # store predictions\n",
    "        y_pred_test_proba = clf.predict_proba(X_test)\n",
    "        predictions.append(y_pred_test_proba)\n",
    "        print('Round', i+1, 'Predictions stored successfully')\n",
    "        \n",
    "        clfs.append(clf)\n",
    "        \n",
    "    return scores, np.array(predictions), clfs"
   ]
  },
  {
   "cell_type": "code",
   "execution_count": 30,
   "id": "680fff6c",
   "metadata": {
    "execution": {
     "iopub.execute_input": "2024-02-08T13:40:34.601744Z",
     "iopub.status.busy": "2024-02-08T13:40:34.601311Z",
     "iopub.status.idle": "2024-02-08T13:41:38.779375Z",
     "shell.execute_reply": "2024-02-08T13:41:38.778125Z"
    },
    "papermill": {
     "duration": 64.210742,
     "end_time": "2024-02-08T13:41:38.781985",
     "exception": false,
     "start_time": "2024-02-08T13:40:34.571243",
     "status": "completed"
    },
    "tags": []
   },
   "outputs": [
    {
     "name": "stdout",
     "output_type": "stream",
     "text": [
      "Fitting with k-fold 1 out of 16606\n",
      "Training on 16606 samples\n",
      "Evaluating on 4152 samples\n",
      "[0]\tvalidation_0-mlogloss:1.83496\tvalidation_1-mlogloss:1.83827\n"
     ]
    },
    {
     "name": "stderr",
     "output_type": "stream",
     "text": [
      "/opt/conda/lib/python3.10/site-packages/xgboost/sklearn.py:889: UserWarning: `early_stopping_rounds` in `fit` method is deprecated for better compatibility with scikit-learn, use `early_stopping_rounds` in constructor or`set_params` instead.\n",
      "  warnings.warn(\n"
     ]
    },
    {
     "name": "stdout",
     "output_type": "stream",
     "text": [
      "[50]\tvalidation_0-mlogloss:0.38064\tvalidation_1-mlogloss:0.42059\n",
      "[100]\tvalidation_0-mlogloss:0.24317\tvalidation_1-mlogloss:0.29021\n",
      "[150]\tvalidation_0-mlogloss:0.20819\tvalidation_1-mlogloss:0.26225\n",
      "[200]\tvalidation_0-mlogloss:0.19778\tvalidation_1-mlogloss:0.25537\n",
      "[250]\tvalidation_0-mlogloss:0.19380\tvalidation_1-mlogloss:0.25301\n",
      "[300]\tvalidation_0-mlogloss:0.19165\tvalidation_1-mlogloss:0.25219\n",
      "[350]\tvalidation_0-mlogloss:0.19046\tvalidation_1-mlogloss:0.25166\n",
      "[400]\tvalidation_0-mlogloss:0.18959\tvalidation_1-mlogloss:0.25132\n",
      "[437]\tvalidation_0-mlogloss:0.18909\tvalidation_1-mlogloss:0.25109\n",
      "validation score is 0.9142581888246628\n",
      "Round 1 Predictions stored successfully\n",
      "Fitting with k-fold 2 out of 16606\n",
      "Training on 16606 samples\n",
      "Evaluating on 4152 samples\n",
      "[0]\tvalidation_0-mlogloss:1.83457\tvalidation_1-mlogloss:1.83774\n"
     ]
    },
    {
     "name": "stderr",
     "output_type": "stream",
     "text": [
      "/opt/conda/lib/python3.10/site-packages/xgboost/sklearn.py:889: UserWarning: `early_stopping_rounds` in `fit` method is deprecated for better compatibility with scikit-learn, use `early_stopping_rounds` in constructor or`set_params` instead.\n",
      "  warnings.warn(\n"
     ]
    },
    {
     "name": "stdout",
     "output_type": "stream",
     "text": [
      "[50]\tvalidation_0-mlogloss:0.37606\tvalidation_1-mlogloss:0.43789\n",
      "[100]\tvalidation_0-mlogloss:0.23964\tvalidation_1-mlogloss:0.31303\n",
      "[150]\tvalidation_0-mlogloss:0.20519\tvalidation_1-mlogloss:0.28542\n",
      "[200]\tvalidation_0-mlogloss:0.19513\tvalidation_1-mlogloss:0.27830\n",
      "[250]\tvalidation_0-mlogloss:0.19043\tvalidation_1-mlogloss:0.27545\n",
      "[300]\tvalidation_0-mlogloss:0.18837\tvalidation_1-mlogloss:0.27430\n",
      "[350]\tvalidation_0-mlogloss:0.18681\tvalidation_1-mlogloss:0.27376\n",
      "[375]\tvalidation_0-mlogloss:0.18657\tvalidation_1-mlogloss:0.27368\n",
      "validation score is 0.9072736030828517\n",
      "Round 2 Predictions stored successfully\n",
      "Fitting with k-fold 3 out of 16606\n",
      "Training on 16606 samples\n",
      "Evaluating on 4152 samples\n",
      "[0]\tvalidation_0-mlogloss:1.83560\tvalidation_1-mlogloss:1.83801\n"
     ]
    },
    {
     "name": "stderr",
     "output_type": "stream",
     "text": [
      "/opt/conda/lib/python3.10/site-packages/xgboost/sklearn.py:889: UserWarning: `early_stopping_rounds` in `fit` method is deprecated for better compatibility with scikit-learn, use `early_stopping_rounds` in constructor or`set_params` instead.\n",
      "  warnings.warn(\n"
     ]
    },
    {
     "name": "stdout",
     "output_type": "stream",
     "text": [
      "[50]\tvalidation_0-mlogloss:0.38004\tvalidation_1-mlogloss:0.42038\n",
      "[100]\tvalidation_0-mlogloss:0.24328\tvalidation_1-mlogloss:0.29053\n",
      "[150]\tvalidation_0-mlogloss:0.20893\tvalidation_1-mlogloss:0.26202\n",
      "[200]\tvalidation_0-mlogloss:0.19877\tvalidation_1-mlogloss:0.25427\n",
      "[250]\tvalidation_0-mlogloss:0.19427\tvalidation_1-mlogloss:0.25131\n",
      "[300]\tvalidation_0-mlogloss:0.19182\tvalidation_1-mlogloss:0.25001\n",
      "[350]\tvalidation_0-mlogloss:0.19053\tvalidation_1-mlogloss:0.24945\n",
      "[368]\tvalidation_0-mlogloss:0.19026\tvalidation_1-mlogloss:0.24945\n",
      "validation score is 0.9140173410404624\n",
      "Round 3 Predictions stored successfully\n",
      "Fitting with k-fold 4 out of 16607\n",
      "Training on 16607 samples\n",
      "Evaluating on 4151 samples\n",
      "[0]\tvalidation_0-mlogloss:1.83517\tvalidation_1-mlogloss:1.83697\n"
     ]
    },
    {
     "name": "stderr",
     "output_type": "stream",
     "text": [
      "/opt/conda/lib/python3.10/site-packages/xgboost/sklearn.py:889: UserWarning: `early_stopping_rounds` in `fit` method is deprecated for better compatibility with scikit-learn, use `early_stopping_rounds` in constructor or`set_params` instead.\n",
      "  warnings.warn(\n"
     ]
    },
    {
     "name": "stdout",
     "output_type": "stream",
     "text": [
      "[50]\tvalidation_0-mlogloss:0.37742\tvalidation_1-mlogloss:0.42771\n",
      "[100]\tvalidation_0-mlogloss:0.24032\tvalidation_1-mlogloss:0.30492\n",
      "[150]\tvalidation_0-mlogloss:0.20574\tvalidation_1-mlogloss:0.27960\n",
      "[200]\tvalidation_0-mlogloss:0.19570\tvalidation_1-mlogloss:0.27321\n",
      "[250]\tvalidation_0-mlogloss:0.19117\tvalidation_1-mlogloss:0.27066\n",
      "[300]\tvalidation_0-mlogloss:0.18931\tvalidation_1-mlogloss:0.26992\n",
      "[350]\tvalidation_0-mlogloss:0.18823\tvalidation_1-mlogloss:0.26921\n",
      "[390]\tvalidation_0-mlogloss:0.18780\tvalidation_1-mlogloss:0.26911\n",
      "validation score is 0.9065285473379908\n",
      "Round 4 Predictions stored successfully\n",
      "Fitting with k-fold 5 out of 16607\n",
      "Training on 16607 samples\n",
      "Evaluating on 4151 samples\n",
      "[0]\tvalidation_0-mlogloss:1.83506\tvalidation_1-mlogloss:1.83885\n"
     ]
    },
    {
     "name": "stderr",
     "output_type": "stream",
     "text": [
      "/opt/conda/lib/python3.10/site-packages/xgboost/sklearn.py:889: UserWarning: `early_stopping_rounds` in `fit` method is deprecated for better compatibility with scikit-learn, use `early_stopping_rounds` in constructor or`set_params` instead.\n",
      "  warnings.warn(\n"
     ]
    },
    {
     "name": "stdout",
     "output_type": "stream",
     "text": [
      "[50]\tvalidation_0-mlogloss:0.37690\tvalidation_1-mlogloss:0.43123\n",
      "[100]\tvalidation_0-mlogloss:0.23936\tvalidation_1-mlogloss:0.30663\n",
      "[150]\tvalidation_0-mlogloss:0.20491\tvalidation_1-mlogloss:0.27857\n",
      "[200]\tvalidation_0-mlogloss:0.19499\tvalidation_1-mlogloss:0.27159\n",
      "[250]\tvalidation_0-mlogloss:0.19063\tvalidation_1-mlogloss:0.26835\n",
      "[300]\tvalidation_0-mlogloss:0.18882\tvalidation_1-mlogloss:0.26730\n",
      "[350]\tvalidation_0-mlogloss:0.18801\tvalidation_1-mlogloss:0.26686\n",
      "[400]\tvalidation_0-mlogloss:0.18729\tvalidation_1-mlogloss:0.26639\n",
      "[450]\tvalidation_0-mlogloss:0.18671\tvalidation_1-mlogloss:0.26618\n",
      "validation score is 0.90917851120212\n",
      "Round 5 Predictions stored successfully\n"
     ]
    }
   ],
   "source": [
    "scores, predictions, clfs = train_evaluate_model(X, y, X_test)"
   ]
  },
  {
   "cell_type": "code",
   "execution_count": 31,
   "id": "5ce7012d",
   "metadata": {
    "execution": {
     "iopub.execute_input": "2024-02-08T13:41:38.847521Z",
     "iopub.status.busy": "2024-02-08T13:41:38.847087Z",
     "iopub.status.idle": "2024-02-08T13:41:38.853448Z",
     "shell.execute_reply": "2024-02-08T13:41:38.852203Z"
    },
    "papermill": {
     "duration": 0.042055,
     "end_time": "2024-02-08T13:41:38.856448",
     "exception": false,
     "start_time": "2024-02-08T13:41:38.814393",
     "status": "completed"
    },
    "tags": []
   },
   "outputs": [
    {
     "name": "stdout",
     "output_type": "stream",
     "text": [
      "Average evaluation score =  0.9102512382976176\n"
     ]
    }
   ],
   "source": [
    "print('Average evaluation score = ', np.mean(scores))"
   ]
  },
  {
   "cell_type": "code",
   "execution_count": 32,
   "id": "3b1ebb0a",
   "metadata": {
    "execution": {
     "iopub.execute_input": "2024-02-08T13:41:38.922265Z",
     "iopub.status.busy": "2024-02-08T13:41:38.921862Z",
     "iopub.status.idle": "2024-02-08T13:41:38.932480Z",
     "shell.execute_reply": "2024-02-08T13:41:38.931125Z"
    },
    "papermill": {
     "duration": 0.046112,
     "end_time": "2024-02-08T13:41:38.935008",
     "exception": false,
     "start_time": "2024-02-08T13:41:38.888896",
     "status": "completed"
    },
    "tags": []
   },
   "outputs": [
    {
     "data": {
      "text/plain": [
       "array([5, 2, 6, ..., 0, 1, 5])"
      ]
     },
     "execution_count": 32,
     "metadata": {},
     "output_type": "execute_result"
    }
   ],
   "source": [
    "y_test_pred = np.mean(predictions, axis=0)\n",
    "y_test_pred = np.argmax(y_test_pred, axis=1)\n",
    "\n",
    "y_test_pred"
   ]
  },
  {
   "cell_type": "code",
   "execution_count": 33,
   "id": "10c2ad04",
   "metadata": {
    "execution": {
     "iopub.execute_input": "2024-02-08T13:41:39.002399Z",
     "iopub.status.busy": "2024-02-08T13:41:39.001973Z",
     "iopub.status.idle": "2024-02-08T13:41:39.009943Z",
     "shell.execute_reply": "2024-02-08T13:41:39.008842Z"
    },
    "papermill": {
     "duration": 0.044536,
     "end_time": "2024-02-08T13:41:39.012391",
     "exception": false,
     "start_time": "2024-02-08T13:41:38.967855",
     "status": "completed"
    },
    "tags": []
   },
   "outputs": [],
   "source": [
    "df_submission['NObeyesdad'] = y_test_pred\n",
    "df_submission['NObeyesdad'] = df_submission['NObeyesdad'].map(reverse_dict_conversion)\n",
    "\n",
    "#df_submission.to_csv('submission.csv', index=False)"
   ]
  },
  {
   "cell_type": "markdown",
   "id": "c41d7c90",
   "metadata": {
    "papermill": {
     "duration": 0.031314,
     "end_time": "2024-02-08T13:41:39.075248",
     "exception": false,
     "start_time": "2024-02-08T13:41:39.043934",
     "status": "completed"
    },
    "tags": []
   },
   "source": [
    "### Explore results of one of the model previously trained"
   ]
  },
  {
   "cell_type": "code",
   "execution_count": 34,
   "id": "264099bc",
   "metadata": {
    "execution": {
     "iopub.execute_input": "2024-02-08T13:41:39.140265Z",
     "iopub.status.busy": "2024-02-08T13:41:39.139877Z",
     "iopub.status.idle": "2024-02-08T13:41:39.400190Z",
     "shell.execute_reply": "2024-02-08T13:41:39.398825Z"
    },
    "papermill": {
     "duration": 0.295895,
     "end_time": "2024-02-08T13:41:39.402963",
     "exception": false,
     "start_time": "2024-02-08T13:41:39.107068",
     "status": "completed"
    },
    "tags": []
   },
   "outputs": [
    {
     "data": {
      "image/png": "[encoded data removed]",
      "text/plain": [
       "<Figure size 640x480 with 1 Axes>"
      ]
     },
     "metadata": {},
     "output_type": "display_data"
    }
   ],
   "source": [
    "# this section works only for XGBoost\n",
    "\n",
    "results = clfs[0].evals_result()\n",
    "\n",
    "train_loss = results['validation_0']['mlogloss']\n",
    "validation_loss = results['validation_1']['mlogloss']\n",
    "epochs_grid = np.arange(1, len(train_loss)+1)\n",
    "\n",
    "plt.plot(epochs_grid, train_loss, label='Training')\n",
    "plt.plot(epochs_grid, validation_loss, label='Validation')\n",
    "plt.legend()\n",
    "plt.ylabel('loss')\n",
    "plt.xlabel('Epochs')\n",
    "plt.grid()"
   ]
  },
  {
   "cell_type": "markdown",
   "id": "0d842d02",
   "metadata": {
    "papermill": {
     "duration": 0.031846,
     "end_time": "2024-02-08T13:41:39.470023",
     "exception": false,
     "start_time": "2024-02-08T13:41:39.438177",
     "status": "completed"
    },
    "tags": []
   },
   "source": [
    "# 8. Try to improve accuracy using cross validation\n",
    "In this section we try to improve the accuracy using a voting classifier, consisting of the 3 following algorithms:\n",
    "- GradientBoosting Classifier\n",
    "- XGBoost\n",
    "- LigthGBM"
   ]
  },
  {
   "cell_type": "code",
   "execution_count": 35,
   "id": "b8f9a417",
   "metadata": {
    "execution": {
     "iopub.execute_input": "2024-02-08T13:41:39.537325Z",
     "iopub.status.busy": "2024-02-08T13:41:39.536883Z",
     "iopub.status.idle": "2024-02-08T13:43:03.323656Z",
     "shell.execute_reply": "2024-02-08T13:43:03.322710Z"
    },
    "papermill": {
     "duration": 83.857972,
     "end_time": "2024-02-08T13:43:03.359922",
     "exception": false,
     "start_time": "2024-02-08T13:41:39.501950",
     "status": "completed"
    },
    "tags": []
   },
   "outputs": [
    {
     "data": {
      "text/html": [
       "<style>#sk-container-id-2 {color: black;background-color: white;}#sk-container-id-2 pre{padding: 0;}#sk-container-id-2 div.sk-toggleable {background-color: white;}#sk-container-id-2 label.sk-toggleable__label {cursor: pointer;display: block;width: 100%;margin-bottom: 0;padding: 0.3em;box-sizing: border-box;text-align: center;}#sk-container-id-2 label.sk-toggleable__label-arrow:before {content: \"▸\";float: left;margin-right: 0.25em;color: #696969;}#sk-container-id-2 label.sk-toggleable__label-arrow:hover:before {color: black;}#sk-container-id-2 div.sk-estimator:hover label.sk-toggleable__label-arrow:before {color: black;}#sk-container-id-2 div.sk-toggleable__content {max-height: 0;max-width: 0;overflow: hidden;text-align: left;background-color: #f0f8ff;}#sk-container-id-2 div.sk-toggleable__content pre {margin: 0.2em;color: black;border-radius: 0.25em;background-color: #f0f8ff;}#sk-container-id-2 input.sk-toggleable__control:checked~div.sk-toggleable__content {max-height: 200px;max-width: 100%;overflow: auto;}#sk-container-id-2 input.sk-toggleable__control:checked~label.sk-toggleable__label-arrow:before {content: \"▾\";}#sk-container-id-2 div.sk-estimator input.sk-toggleable__control:checked~label.sk-toggleable__label {background-color: #d4ebff;}#sk-container-id-2 div.sk-label input.sk-toggleable__control:checked~label.sk-toggleable__label {background-color: #d4ebff;}#sk-container-id-2 input.sk-hidden--visually {border: 0;clip: rect(1px 1px 1px 1px);clip: rect(1px, 1px, 1px, 1px);height: 1px;margin: -1px;overflow: hidden;padding: 0;position: absolute;width: 1px;}#sk-container-id-2 div.sk-estimator {font-family: monospace;background-color: #f0f8ff;border: 1px dotted black;border-radius: 0.25em;box-sizing: border-box;margin-bottom: 0.5em;}#sk-container-id-2 div.sk-estimator:hover {background-color: #d4ebff;}#sk-container-id-2 div.sk-parallel-item::after {content: \"\";width: 100%;border-bottom: 1px solid gray;flex-grow: 1;}#sk-container-id-2 div.sk-label:hover label.sk-toggleable__label {background-color: #d4ebff;}#sk-container-id-2 div.sk-serial::before {content: \"\";position: absolute;border-left: 1px solid gray;box-sizing: border-box;top: 0;bottom: 0;left: 50%;z-index: 0;}#sk-container-id-2 div.sk-serial {display: flex;flex-direction: column;align-items: center;background-color: white;padding-right: 0.2em;padding-left: 0.2em;position: relative;}#sk-container-id-2 div.sk-item {position: relative;z-index: 1;}#sk-container-id-2 div.sk-parallel {display: flex;align-items: stretch;justify-content: center;background-color: white;position: relative;}#sk-container-id-2 div.sk-item::before, #sk-container-id-2 div.sk-parallel-item::before {content: \"\";position: absolute;border-left: 1px solid gray;box-sizing: border-box;top: 0;bottom: 0;left: 50%;z-index: -1;}#sk-container-id-2 div.sk-parallel-item {display: flex;flex-direction: column;z-index: 1;position: relative;background-color: white;}#sk-container-id-2 div.sk-parallel-item:first-child::after {align-self: flex-end;width: 50%;}#sk-container-id-2 div.sk-parallel-item:last-child::after {align-self: flex-start;width: 50%;}#sk-container-id-2 div.sk-parallel-item:only-child::after {width: 0;}#sk-container-id-2 div.sk-dashed-wrapped {border: 1px dashed gray;margin: 0 0.4em 0.5em 0.4em;box-sizing: border-box;padding-bottom: 0.4em;background-color: white;}#sk-container-id-2 div.sk-label label {font-family: monospace;font-weight: bold;display: inline-block;line-height: 1.2em;}#sk-container-id-2 div.sk-label-container {text-align: center;}#sk-container-id-2 div.sk-container {/* jupyter's `normalize.less` sets `[hidden] { display: none; }` but bootstrap.min.css set `[hidden] { display: none !important; }` so we also need the `!important` here to be able to override the default hidden behavior on the sphinx rendered scikit-learn.org. See: https://github.com/scikit-learn/scikit-learn/issues/21755 */display: inline-block !important;position: relative;}#sk-container-id-2 div.sk-text-repr-fallback {display: none;}</style><div id=\"sk-container-id-2\" class=\"sk-top-container\"><div class=\"sk-text-repr-fallback\"><pre>VotingClassifier(estimators=[(&#x27;lgbm&#x27;,\n",
       "                              LGBMClassifier(colsample_bytree=0.6782348565590313,\n",
       "                                             gamma=0.21718199012686834,\n",
       "                                             lambda_l1=0.9770735787707583,\n",
       "                                             lambda_l2=0.8576215710818857,\n",
       "                                             learning_rate=0.014669435683414833,\n",
       "                                             max_depth=5, min_child_samples=4,\n",
       "                                             n_estimators=1086,\n",
       "                                             subsample=0.9343204270146038,\n",
       "                                             verbose=-1, verbosity=-1)),\n",
       "                             (&#x27;xgb&#x27;,\n",
       "                              XGBClassifier(base_score=None, b...\n",
       "                                            interaction_constraints=None,\n",
       "                                            learning_rate=0.06435693511798936,\n",
       "                                            max_bin=None,\n",
       "                                            max_cat_threshold=None,\n",
       "                                            max_cat_to_onehot=None,\n",
       "                                            max_delta_step=None, max_depth=10,\n",
       "                                            max_leaves=None, min_child_weight=4,\n",
       "                                            missing=nan,\n",
       "                                            monotone_constraints=None,\n",
       "                                            multi_strategy=None,\n",
       "                                            n_estimators=1224, n_jobs=None,\n",
       "                                            num_parallel_tree=None,\n",
       "                                            random_state=None, ...)),\n",
       "                             (&#x27;gb&#x27;, GradientBoostingClassifier())],\n",
       "                 voting=&#x27;soft&#x27;)</pre><b>In a Jupyter environment, please rerun this cell to show the HTML representation or trust the notebook. <br />On GitHub, the HTML representation is unable to render, please try loading this page with nbviewer.org.</b></div><div class=\"sk-container\" hidden><div class=\"sk-item sk-dashed-wrapped\"><div class=\"sk-label-container\"><div class=\"sk-label sk-toggleable\"><input class=\"sk-toggleable__control sk-hidden--visually\" id=\"sk-estimator-id-2\" type=\"checkbox\" ><label for=\"sk-estimator-id-2\" class=\"sk-toggleable__label sk-toggleable__label-arrow\">VotingClassifier</label><div class=\"sk-toggleable__content\"><pre>VotingClassifier(estimators=[(&#x27;lgbm&#x27;,\n",
       "                              LGBMClassifier(colsample_bytree=0.6782348565590313,\n",
       "                                             gamma=0.21718199012686834,\n",
       "                                             lambda_l1=0.9770735787707583,\n",
       "                                             lambda_l2=0.8576215710818857,\n",
       "                                             learning_rate=0.014669435683414833,\n",
       "                                             max_depth=5, min_child_samples=4,\n",
       "                                             n_estimators=1086,\n",
       "                                             subsample=0.9343204270146038,\n",
       "                                             verbose=-1, verbosity=-1)),\n",
       "                             (&#x27;xgb&#x27;,\n",
       "                              XGBClassifier(base_score=None, b...\n",
       "                                            interaction_constraints=None,\n",
       "                                            learning_rate=0.06435693511798936,\n",
       "                                            max_bin=None,\n",
       "                                            max_cat_threshold=None,\n",
       "                                            max_cat_to_onehot=None,\n",
       "                                            max_delta_step=None, max_depth=10,\n",
       "                                            max_leaves=None, min_child_weight=4,\n",
       "                                            missing=nan,\n",
       "                                            monotone_constraints=None,\n",
       "                                            multi_strategy=None,\n",
       "                                            n_estimators=1224, n_jobs=None,\n",
       "                                            num_parallel_tree=None,\n",
       "                                            random_state=None, ...)),\n",
       "                             (&#x27;gb&#x27;, GradientBoostingClassifier())],\n",
       "                 voting=&#x27;soft&#x27;)</pre></div></div></div><div class=\"sk-parallel\"><div class=\"sk-parallel-item\"><div class=\"sk-item\"><div class=\"sk-label-container\"><div class=\"sk-label sk-toggleable\"><label>lgbm</label></div></div><div class=\"sk-serial\"><div class=\"sk-item\"><div class=\"sk-estimator sk-toggleable\"><input class=\"sk-toggleable__control sk-hidden--visually\" id=\"sk-estimator-id-3\" type=\"checkbox\" ><label for=\"sk-estimator-id-3\" class=\"sk-toggleable__label sk-toggleable__label-arrow\">LGBMClassifier</label><div class=\"sk-toggleable__content\"><pre>LGBMClassifier(colsample_bytree=0.6782348565590313, gamma=0.21718199012686834,\n",
       "               lambda_l1=0.9770735787707583, lambda_l2=0.8576215710818857,\n",
       "               learning_rate=0.014669435683414833, max_depth=5,\n",
       "               min_child_samples=4, n_estimators=1086,\n",
       "               subsample=0.9343204270146038, verbose=-1, verbosity=-1)</pre></div></div></div></div></div></div><div class=\"sk-parallel-item\"><div class=\"sk-item\"><div class=\"sk-label-container\"><div class=\"sk-label sk-toggleable\"><label>xgb</label></div></div><div class=\"sk-serial\"><div class=\"sk-item\"><div class=\"sk-estimator sk-toggleable\"><input class=\"sk-toggleable__control sk-hidden--visually\" id=\"sk-estimator-id-4\" type=\"checkbox\" ><label for=\"sk-estimator-id-4\" class=\"sk-toggleable__label sk-toggleable__label-arrow\">XGBClassifier</label><div class=\"sk-toggleable__content\"><pre>XGBClassifier(base_score=None, booster=None, callbacks=None,\n",
       "              colsample_bylevel=None, colsample_bynode=None,\n",
       "              colsample_bytree=0.4785000546841373, device=None,\n",
       "              early_stopping_rounds=None, enable_categorical=False,\n",
       "              eval_metric=None, feature_types=None, gamma=0.8323134488556143,\n",
       "              grow_policy=None, importance_type=None,\n",
       "              interaction_constraints=None, learning_rate=0.06435693511798936,\n",
       "              max_bin=None, max_cat_threshold=None, max_cat_to_onehot=None,\n",
       "              max_delta_step=None, max_depth=10, max_leaves=None,\n",
       "              min_child_weight=4, missing=nan, monotone_constraints=None,\n",
       "              multi_strategy=None, n_estimators=1224, n_jobs=None,\n",
       "              num_parallel_tree=None, random_state=None, ...)</pre></div></div></div></div></div></div><div class=\"sk-parallel-item\"><div class=\"sk-item\"><div class=\"sk-label-container\"><div class=\"sk-label sk-toggleable\"><label>gb</label></div></div><div class=\"sk-serial\"><div class=\"sk-item\"><div class=\"sk-estimator sk-toggleable\"><input class=\"sk-toggleable__control sk-hidden--visually\" id=\"sk-estimator-id-5\" type=\"checkbox\" ><label for=\"sk-estimator-id-5\" class=\"sk-toggleable__label sk-toggleable__label-arrow\">GradientBoostingClassifier</label><div class=\"sk-toggleable__content\"><pre>GradientBoostingClassifier()</pre></div></div></div></div></div></div></div></div></div></div>"
      ],
      "text/plain": [
       "VotingClassifier(estimators=[('lgbm',\n",
       "                              LGBMClassifier(colsample_bytree=0.6782348565590313,\n",
       "                                             gamma=0.21718199012686834,\n",
       "                                             lambda_l1=0.9770735787707583,\n",
       "                                             lambda_l2=0.8576215710818857,\n",
       "                                             learning_rate=0.014669435683414833,\n",
       "                                             max_depth=5, min_child_samples=4,\n",
       "                                             n_estimators=1086,\n",
       "                                             subsample=0.9343204270146038,\n",
       "                                             verbose=-1, verbosity=-1)),\n",
       "                             ('xgb',\n",
       "                              XGBClassifier(base_score=None, b...\n",
       "                                            interaction_constraints=None,\n",
       "                                            learning_rate=0.06435693511798936,\n",
       "                                            max_bin=None,\n",
       "                                            max_cat_threshold=None,\n",
       "                                            max_cat_to_onehot=None,\n",
       "                                            max_delta_step=None, max_depth=10,\n",
       "                                            max_leaves=None, min_child_weight=4,\n",
       "                                            missing=nan,\n",
       "                                            monotone_constraints=None,\n",
       "                                            multi_strategy=None,\n",
       "                                            n_estimators=1224, n_jobs=None,\n",
       "                                            num_parallel_tree=None,\n",
       "                                            random_state=None, ...)),\n",
       "                             ('gb', GradientBoostingClassifier())],\n",
       "                 voting='soft')"
      ]
     },
     "execution_count": 35,
     "metadata": {},
     "output_type": "execute_result"
    }
   ],
   "source": [
    "from sklearn.ensemble import VotingClassifier\n",
    "\n",
    "clf_lgbm = LGBMClassifier(**best_params_LGBM, verbose = -1, verbosity = -1)\n",
    "clf_xgb = XGBClassifier(**best_params_XGB)\n",
    "clf_gb = GradientBoostingClassifier()\n",
    "\n",
    "voting_clf = VotingClassifier(estimators=[('lgbm', clf_lgbm), ('xgb', clf_xgb), ('gb', clf_gb)], \n",
    "                              voting='soft')\n",
    "\n",
    "voting_clf.fit(X, y)"
   ]
  },
  {
   "cell_type": "code",
   "execution_count": 36,
   "id": "dde1871a",
   "metadata": {
    "execution": {
     "iopub.execute_input": "2024-02-08T13:43:03.427988Z",
     "iopub.status.busy": "2024-02-08T13:43:03.427538Z",
     "iopub.status.idle": "2024-02-08T13:43:14.586183Z",
     "shell.execute_reply": "2024-02-08T13:43:14.584614Z"
    },
    "papermill": {
     "duration": 11.196821,
     "end_time": "2024-02-08T13:43:14.589779",
     "exception": false,
     "start_time": "2024-02-08T13:43:03.392958",
     "status": "completed"
    },
    "tags": []
   },
   "outputs": [],
   "source": [
    "df_submission['NObeyesdad'] = voting_clf.predict(X_test)\n",
    "df_submission['NObeyesdad'] = df_submission['NObeyesdad'].map(reverse_dict_conversion)\n",
    "\n",
    "df_submission\n",
    "\n",
    "df_submission.to_csv('submission.csv', index=False)"
   ]
  },
  {
   "cell_type": "code",
   "execution_count": null,
   "id": "b7540880",
   "metadata": {
    "papermill": {
     "duration": 0.033918,
     "end_time": "2024-02-08T13:43:14.657133",
     "exception": false,
     "start_time": "2024-02-08T13:43:14.623215",
     "status": "completed"
    },
    "tags": []
   },
   "outputs": [],
   "source": []
  }
 ],
 "metadata": {
  "kaggle": {
   "accelerator": "none",
   "dataSources": [
    {
     "databundleVersionId": 7609535,
     "sourceId": 68479,
     "sourceType": "competition"
    }
   ],
   "dockerImageVersionId": 30646,
   "isGpuEnabled": false,
   "isInternetEnabled": true,
   "language": "python",
   "sourceType": "notebook"
  },
  "kernelspec": {
   "display_name": "Python 3",
   "language": "python",
   "name": "python3"
  },
  "language_info": {
   "codemirror_mode": {
    "name": "ipython",
    "version": 3
   },
   "file_extension": ".py",
   "mimetype": "text/x-python",
   "name": "python",
   "nbconvert_exporter": "python",
   "pygments_lexer": "ipython3",
   "version": "3.10.13"
  },
  "papermill": {
   "default_parameters": {},
   "duration": 246.539955,
   "end_time": "2024-02-08T13:43:15.814634",
   "environment_variables": {},
   "exception": null,
   "input_path": "__notebook__.ipynb",
   "output_path": "__notebook__.ipynb",
   "parameters": {},
   "start_time": "2024-02-08T13:39:09.274679",
   "version": "2.5.0"
  }
 },
 "nbformat": 4,
 "nbformat_minor": 5
}
