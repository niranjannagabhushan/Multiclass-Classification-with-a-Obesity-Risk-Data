{
 "cells": [
  {
   "cell_type": "markdown",
   "id": "f2afd08e",
   "metadata": {
    "papermill": {
     "duration": 0.005131,
     "end_time": "2024-02-03T09:34:38.461892",
     "exception": false,
     "start_time": "2024-02-03T09:34:38.456761",
     "status": "completed"
    },
    "tags": []
   },
   "source": [
    "# Multi-Class Prediction of Obesity Risk\n",
    "Easy solution💸 91% Accuracy 🧿 XGBoost+Optuna\n",
    " Playground Series - Season 4, Episode 2\n",
    " \n",
    " Check out all my notebooks on : [www.kaggle.com/divyam6969](http://www.kaggle.com/divyam6969)\n",
    " \n",
    " # Multi-Class Prediction of Obesity Risk - XGBoost+Optuna\n",
    "\n",
    "## Overview\n",
    "\n",
    "This project addresses the challenge of predicting the risk of obesity or cardiovascular disease (CVD) using machine learning techniques. The goal is to perform a multi-class prediction of obesity risk by employing the XGBoost algorithm along with the Optuna hyperparameter optimization framework.\n",
    "\n",
    "## Key Components and Techniques\n",
    "\n",
    "1. **XGBoost Algorithm:** Utilizing the XGBoost classifier, a popular and powerful gradient boosting algorithm, to develop a predictive model for multi-class classification.\n",
    "\n",
    "2. **Optuna Hyperparameter Optimization:** Employing the Optuna library to efficiently search and optimize hyperparameters for the XGBoost model, enhancing its performance.\n",
    "\n",
    "3. **Data and Features:** Leveraging input data to train the model, with features related to obesity or cardiovascular risk. The dataset is used to build a robust and accurate predictive model.\n",
    "\n",
    "4. **GPU Acceleration:** Utilizing GPU resources (specifically, the P100 GPU) to expedite the training process, significantly reducing computation time.\n",
    "\n",
    "## Project Outcome\n",
    "\n",
    "- **Competition Performance:** The project has achieved notable success, earning a bronze medal in the competition.\n",
    "\n",
    "- **Public Score:** The model demonstrates strong predictive capabilities, as indicated by a public score of 0.91473.\n",
    "\n",
    "- **Version History:** The project has undergone iterative improvements, with version 3 showcasing the final model.\n",
    "\n",
    "- **Execution Time:** The model has been efficiently trained within a total execution time of 155.2 seconds using GPU acceleration.\n",
    "\n",
    "This project serves as a demonstration of employing advanced machine learning techniques, specifically XGBoost with hyperparameter optimization, to tackle the challenging task of multi-class prediction in the context of obesity or cardiovascular risk. The utilization of GPU resources further enhances the speed and efficiency of the training process, contributing to the project's success in the competition.\n"
   ]
  },
  {
   "cell_type": "code",
   "execution_count": 1,
   "id": "77454fc0",
   "metadata": {
    "_cell_guid": "b1076dfc-b9ad-4769-8c92-a6c4dae69d19",
    "_uuid": "8f2839f25d086af736a60e9eeb907d3b93b6e0e5",
    "execution": {
     "iopub.execute_input": "2024-02-03T09:34:38.472539Z",
     "iopub.status.busy": "2024-02-03T09:34:38.472139Z",
     "iopub.status.idle": "2024-02-03T09:34:39.281878Z",
     "shell.execute_reply": "2024-02-03T09:34:39.280657Z"
    },
    "papermill": {
     "duration": 0.817759,
     "end_time": "2024-02-03T09:34:39.284294",
     "exception": false,
     "start_time": "2024-02-03T09:34:38.466535",
     "status": "completed"
    },
    "tags": []
   },
   "outputs": [
    {
     "name": "stdout",
     "output_type": "stream",
     "text": [
      "/kaggle/input/playground-series-s4e2/sample_submission.csv\n",
      "/kaggle/input/playground-series-s4e2/train.csv\n",
      "/kaggle/input/playground-series-s4e2/test.csv\n",
      "/kaggle/input/obesity-or-cvd-risk-classifyregressorcluster/ObesityDataSet.csv\n"
     ]
    }
   ],
   "source": [
    "# This Python 3 environment comes with many helpful analytics libraries installed\n",
    "# It is defined by the kaggle/python Docker image: https://github.com/kaggle/docker-python\n",
    "# For example, here's several helpful packages to load\n",
    "\n",
    "import numpy as np # linear algebra\n",
    "import pandas as pd # data processing, CSV file I/O (e.g. pd.read_csv)\n",
    "\n",
    "# Input data files are available in the read-only \"../input/\" directory\n",
    "# For example, running this (by clicking run or pressing Shift+Enter) will list all files under the input directory\n",
    "\n",
    "import os\n",
    "for dirname, _, filenames in os.walk('/kaggle/input'):\n",
    "    for filename in filenames:\n",
    "        print(os.path.join(dirname, filename))\n",
    "\n",
    "# You can write up to 20GB to the current directory (/kaggle/working/) that gets preserved as output when you create a version using \"Save & Run All\" \n",
    "# You can also write temporary files to /kaggle/temp/, but they won't be saved outside of the current session"
   ]
  },
  {
   "cell_type": "markdown",
   "id": "d8b3b170",
   "metadata": {
    "papermill": {
     "duration": 0.004247,
     "end_time": "2024-02-03T09:34:39.293186",
     "exception": false,
     "start_time": "2024-02-03T09:34:39.288939",
     "status": "completed"
    },
    "tags": []
   },
   "source": [
    "## First we will load the necessary libraries"
   ]
  },
  {
   "cell_type": "code",
   "execution_count": 2,
   "id": "22c9f95e",
   "metadata": {
    "execution": {
     "iopub.execute_input": "2024-02-03T09:34:39.303036Z",
     "iopub.status.busy": "2024-02-03T09:34:39.302654Z",
     "iopub.status.idle": "2024-02-03T09:34:41.855776Z",
     "shell.execute_reply": "2024-02-03T09:34:41.854952Z"
    },
    "papermill": {
     "duration": 2.56064,
     "end_time": "2024-02-03T09:34:41.858121",
     "exception": false,
     "start_time": "2024-02-03T09:34:39.297481",
     "status": "completed"
    },
    "tags": []
   },
   "outputs": [],
   "source": [
    "import pandas as pd\n",
    "import numpy as np\n",
    "\n",
    "from sklearn.compose import ColumnTransformer, make_column_selector\n",
    "from sklearn.preprocessing import StandardScaler, OneHotEncoder, LabelEncoder\n",
    "from sklearn.model_selection import cross_val_score\n",
    "\n",
    "from xgboost import XGBClassifier\n",
    "\n",
    "import optuna"
   ]
  },
  {
   "cell_type": "markdown",
   "id": "b6afc3c1",
   "metadata": {
    "papermill": {
     "duration": 0.004132,
     "end_time": "2024-02-03T09:34:41.867063",
     "exception": false,
     "start_time": "2024-02-03T09:34:41.862931",
     "status": "completed"
    },
    "tags": []
   },
   "source": [
    "## Now go to Data -> Add Data -> then search obesity-or-cvd-risk-classififyregressorcluster Data and add it before running the following code"
   ]
  },
  {
   "cell_type": "code",
   "execution_count": 3,
   "id": "fc00373c",
   "metadata": {
    "execution": {
     "iopub.execute_input": "2024-02-03T09:34:41.877395Z",
     "iopub.status.busy": "2024-02-03T09:34:41.876644Z",
     "iopub.status.idle": "2024-02-03T09:34:42.263934Z",
     "shell.execute_reply": "2024-02-03T09:34:42.262940Z"
    },
    "papermill": {
     "duration": 0.394574,
     "end_time": "2024-02-03T09:34:42.266080",
     "exception": false,
     "start_time": "2024-02-03T09:34:41.871506",
     "status": "completed"
    },
    "tags": []
   },
   "outputs": [
    {
     "data": {
      "text/plain": [
       "(22845, 17)"
      ]
     },
     "metadata": {},
     "output_type": "display_data"
    },
    {
     "data": {
      "text/html": [
       "<div>\n",
       "<style scoped>\n",
       "    .dataframe tbody tr th:only-of-type {\n",
       "        vertical-align: middle;\n",
       "    }\n",
       "\n",
       "    .dataframe tbody tr th {\n",
       "        vertical-align: top;\n",
       "    }\n",
       "\n",
       "    .dataframe thead th {\n",
       "        text-align: right;\n",
       "    }\n",
       "</style>\n",
       "<table border=\"1\" class=\"dataframe\">\n",
       "  <thead>\n",
       "    <tr style=\"text-align: right;\">\n",
       "      <th></th>\n",
       "      <th>Gender</th>\n",
       "      <th>Age</th>\n",
       "      <th>Height</th>\n",
       "      <th>Weight</th>\n",
       "      <th>family_history_with_overweight</th>\n",
       "      <th>FAVC</th>\n",
       "      <th>FCVC</th>\n",
       "      <th>NCP</th>\n",
       "      <th>CAEC</th>\n",
       "      <th>SMOKE</th>\n",
       "      <th>CH2O</th>\n",
       "      <th>SCC</th>\n",
       "      <th>FAF</th>\n",
       "      <th>TUE</th>\n",
       "      <th>CALC</th>\n",
       "      <th>MTRANS</th>\n",
       "      <th>NObeyesdad</th>\n",
       "    </tr>\n",
       "  </thead>\n",
       "  <tbody>\n",
       "    <tr>\n",
       "      <th>0</th>\n",
       "      <td>Male</td>\n",
       "      <td>24.443011</td>\n",
       "      <td>1.699998</td>\n",
       "      <td>81.669950</td>\n",
       "      <td>yes</td>\n",
       "      <td>yes</td>\n",
       "      <td>2.000000</td>\n",
       "      <td>2.983297</td>\n",
       "      <td>Sometimes</td>\n",
       "      <td>no</td>\n",
       "      <td>2.763573</td>\n",
       "      <td>no</td>\n",
       "      <td>0.000000</td>\n",
       "      <td>0.976473</td>\n",
       "      <td>Sometimes</td>\n",
       "      <td>Public_Transportation</td>\n",
       "      <td>Overweight_Level_II</td>\n",
       "    </tr>\n",
       "    <tr>\n",
       "      <th>1</th>\n",
       "      <td>Female</td>\n",
       "      <td>18.000000</td>\n",
       "      <td>1.560000</td>\n",
       "      <td>57.000000</td>\n",
       "      <td>yes</td>\n",
       "      <td>yes</td>\n",
       "      <td>2.000000</td>\n",
       "      <td>3.000000</td>\n",
       "      <td>Frequently</td>\n",
       "      <td>no</td>\n",
       "      <td>2.000000</td>\n",
       "      <td>no</td>\n",
       "      <td>1.000000</td>\n",
       "      <td>1.000000</td>\n",
       "      <td>no</td>\n",
       "      <td>Automobile</td>\n",
       "      <td>Normal_Weight</td>\n",
       "    </tr>\n",
       "    <tr>\n",
       "      <th>2</th>\n",
       "      <td>Female</td>\n",
       "      <td>18.000000</td>\n",
       "      <td>1.711460</td>\n",
       "      <td>50.165754</td>\n",
       "      <td>yes</td>\n",
       "      <td>yes</td>\n",
       "      <td>1.880534</td>\n",
       "      <td>1.411685</td>\n",
       "      <td>Sometimes</td>\n",
       "      <td>no</td>\n",
       "      <td>1.910378</td>\n",
       "      <td>no</td>\n",
       "      <td>0.866045</td>\n",
       "      <td>1.673584</td>\n",
       "      <td>no</td>\n",
       "      <td>Public_Transportation</td>\n",
       "      <td>Insufficient_Weight</td>\n",
       "    </tr>\n",
       "    <tr>\n",
       "      <th>3</th>\n",
       "      <td>Female</td>\n",
       "      <td>20.952737</td>\n",
       "      <td>1.710730</td>\n",
       "      <td>131.274851</td>\n",
       "      <td>yes</td>\n",
       "      <td>yes</td>\n",
       "      <td>3.000000</td>\n",
       "      <td>3.000000</td>\n",
       "      <td>Sometimes</td>\n",
       "      <td>no</td>\n",
       "      <td>1.674061</td>\n",
       "      <td>no</td>\n",
       "      <td>1.467863</td>\n",
       "      <td>0.780199</td>\n",
       "      <td>Sometimes</td>\n",
       "      <td>Public_Transportation</td>\n",
       "      <td>Obesity_Type_III</td>\n",
       "    </tr>\n",
       "    <tr>\n",
       "      <th>4</th>\n",
       "      <td>Male</td>\n",
       "      <td>31.641081</td>\n",
       "      <td>1.914186</td>\n",
       "      <td>93.798055</td>\n",
       "      <td>yes</td>\n",
       "      <td>yes</td>\n",
       "      <td>2.679664</td>\n",
       "      <td>1.971472</td>\n",
       "      <td>Sometimes</td>\n",
       "      <td>no</td>\n",
       "      <td>1.979848</td>\n",
       "      <td>no</td>\n",
       "      <td>1.967973</td>\n",
       "      <td>0.931721</td>\n",
       "      <td>Sometimes</td>\n",
       "      <td>Public_Transportation</td>\n",
       "      <td>Overweight_Level_II</td>\n",
       "    </tr>\n",
       "  </tbody>\n",
       "</table>\n",
       "</div>"
      ],
      "text/plain": [
       "   Gender        Age    Height      Weight family_history_with_overweight  \\\n",
       "0    Male  24.443011  1.699998   81.669950                            yes   \n",
       "1  Female  18.000000  1.560000   57.000000                            yes   \n",
       "2  Female  18.000000  1.711460   50.165754                            yes   \n",
       "3  Female  20.952737  1.710730  131.274851                            yes   \n",
       "4    Male  31.641081  1.914186   93.798055                            yes   \n",
       "\n",
       "  FAVC      FCVC       NCP        CAEC SMOKE      CH2O SCC       FAF  \\\n",
       "0  yes  2.000000  2.983297   Sometimes    no  2.763573  no  0.000000   \n",
       "1  yes  2.000000  3.000000  Frequently    no  2.000000  no  1.000000   \n",
       "2  yes  1.880534  1.411685   Sometimes    no  1.910378  no  0.866045   \n",
       "3  yes  3.000000  3.000000   Sometimes    no  1.674061  no  1.467863   \n",
       "4  yes  2.679664  1.971472   Sometimes    no  1.979848  no  1.967973   \n",
       "\n",
       "        TUE       CALC                 MTRANS           NObeyesdad  \n",
       "0  0.976473  Sometimes  Public_Transportation  Overweight_Level_II  \n",
       "1  1.000000         no             Automobile        Normal_Weight  \n",
       "2  1.673584         no  Public_Transportation  Insufficient_Weight  \n",
       "3  0.780199  Sometimes  Public_Transportation     Obesity_Type_III  \n",
       "4  0.931721  Sometimes  Public_Transportation  Overweight_Level_II  "
      ]
     },
     "metadata": {},
     "output_type": "display_data"
    },
    {
     "data": {
      "text/html": [
       "<div>\n",
       "<style scoped>\n",
       "    .dataframe tbody tr th:only-of-type {\n",
       "        vertical-align: middle;\n",
       "    }\n",
       "\n",
       "    .dataframe tbody tr th {\n",
       "        vertical-align: top;\n",
       "    }\n",
       "\n",
       "    .dataframe thead th {\n",
       "        text-align: right;\n",
       "    }\n",
       "</style>\n",
       "<table border=\"1\" class=\"dataframe\">\n",
       "  <thead>\n",
       "    <tr style=\"text-align: right;\">\n",
       "      <th></th>\n",
       "      <th>count</th>\n",
       "      <th>mean</th>\n",
       "      <th>std</th>\n",
       "      <th>min</th>\n",
       "      <th>25%</th>\n",
       "      <th>50%</th>\n",
       "      <th>75%</th>\n",
       "      <th>max</th>\n",
       "    </tr>\n",
       "  </thead>\n",
       "  <tbody>\n",
       "    <tr>\n",
       "      <th>Age</th>\n",
       "      <td>22845.0</td>\n",
       "      <td>23.888513</td>\n",
       "      <td>5.755338</td>\n",
       "      <td>14.00</td>\n",
       "      <td>20.000000</td>\n",
       "      <td>22.815416</td>\n",
       "      <td>26.000000</td>\n",
       "      <td>61.00</td>\n",
       "    </tr>\n",
       "    <tr>\n",
       "      <th>Height</th>\n",
       "      <td>22845.0</td>\n",
       "      <td>1.700467</td>\n",
       "      <td>0.087865</td>\n",
       "      <td>1.45</td>\n",
       "      <td>1.631856</td>\n",
       "      <td>1.700000</td>\n",
       "      <td>1.763029</td>\n",
       "      <td>1.98</td>\n",
       "    </tr>\n",
       "    <tr>\n",
       "      <th>Weight</th>\n",
       "      <td>22845.0</td>\n",
       "      <td>87.793761</td>\n",
       "      <td>26.363367</td>\n",
       "      <td>39.00</td>\n",
       "      <td>66.000000</td>\n",
       "      <td>84.000000</td>\n",
       "      <td>111.531208</td>\n",
       "      <td>173.00</td>\n",
       "    </tr>\n",
       "    <tr>\n",
       "      <th>FCVC</th>\n",
       "      <td>22845.0</td>\n",
       "      <td>2.443675</td>\n",
       "      <td>0.533392</td>\n",
       "      <td>1.00</td>\n",
       "      <td>2.000000</td>\n",
       "      <td>2.393837</td>\n",
       "      <td>3.000000</td>\n",
       "      <td>3.00</td>\n",
       "    </tr>\n",
       "    <tr>\n",
       "      <th>NCP</th>\n",
       "      <td>22845.0</td>\n",
       "      <td>2.755837</td>\n",
       "      <td>0.711185</td>\n",
       "      <td>1.00</td>\n",
       "      <td>3.000000</td>\n",
       "      <td>3.000000</td>\n",
       "      <td>3.000000</td>\n",
       "      <td>4.00</td>\n",
       "    </tr>\n",
       "    <tr>\n",
       "      <th>CH2O</th>\n",
       "      <td>22845.0</td>\n",
       "      <td>2.027165</td>\n",
       "      <td>0.608479</td>\n",
       "      <td>1.00</td>\n",
       "      <td>1.755907</td>\n",
       "      <td>2.000000</td>\n",
       "      <td>2.531984</td>\n",
       "      <td>3.00</td>\n",
       "    </tr>\n",
       "    <tr>\n",
       "      <th>FAF</th>\n",
       "      <td>22845.0</td>\n",
       "      <td>0.984585</td>\n",
       "      <td>0.839728</td>\n",
       "      <td>0.00</td>\n",
       "      <td>0.015860</td>\n",
       "      <td>1.000000</td>\n",
       "      <td>1.600431</td>\n",
       "      <td>3.00</td>\n",
       "    </tr>\n",
       "    <tr>\n",
       "      <th>TUE</th>\n",
       "      <td>22845.0</td>\n",
       "      <td>0.620984</td>\n",
       "      <td>0.602802</td>\n",
       "      <td>0.00</td>\n",
       "      <td>0.000000</td>\n",
       "      <td>0.582840</td>\n",
       "      <td>1.000000</td>\n",
       "      <td>2.00</td>\n",
       "    </tr>\n",
       "  </tbody>\n",
       "</table>\n",
       "</div>"
      ],
      "text/plain": [
       "          count       mean        std    min        25%        50%  \\\n",
       "Age     22845.0  23.888513   5.755338  14.00  20.000000  22.815416   \n",
       "Height  22845.0   1.700467   0.087865   1.45   1.631856   1.700000   \n",
       "Weight  22845.0  87.793761  26.363367  39.00  66.000000  84.000000   \n",
       "FCVC    22845.0   2.443675   0.533392   1.00   2.000000   2.393837   \n",
       "NCP     22845.0   2.755837   0.711185   1.00   3.000000   3.000000   \n",
       "CH2O    22845.0   2.027165   0.608479   1.00   1.755907   2.000000   \n",
       "FAF     22845.0   0.984585   0.839728   0.00   0.015860   1.000000   \n",
       "TUE     22845.0   0.620984   0.602802   0.00   0.000000   0.582840   \n",
       "\n",
       "               75%     max  \n",
       "Age      26.000000   61.00  \n",
       "Height    1.763029    1.98  \n",
       "Weight  111.531208  173.00  \n",
       "FCVC      3.000000    3.00  \n",
       "NCP       3.000000    4.00  \n",
       "CH2O      2.531984    3.00  \n",
       "FAF       1.600431    3.00  \n",
       "TUE       1.000000    2.00  "
      ]
     },
     "metadata": {},
     "output_type": "display_data"
    },
    {
     "data": {
      "text/html": [
       "<div>\n",
       "<style scoped>\n",
       "    .dataframe tbody tr th:only-of-type {\n",
       "        vertical-align: middle;\n",
       "    }\n",
       "\n",
       "    .dataframe tbody tr th {\n",
       "        vertical-align: top;\n",
       "    }\n",
       "\n",
       "    .dataframe thead th {\n",
       "        text-align: right;\n",
       "    }\n",
       "</style>\n",
       "<table border=\"1\" class=\"dataframe\">\n",
       "  <thead>\n",
       "    <tr style=\"text-align: right;\">\n",
       "      <th></th>\n",
       "      <th>count</th>\n",
       "      <th>unique</th>\n",
       "      <th>top</th>\n",
       "      <th>freq</th>\n",
       "    </tr>\n",
       "  </thead>\n",
       "  <tbody>\n",
       "    <tr>\n",
       "      <th>Gender</th>\n",
       "      <td>22845</td>\n",
       "      <td>2</td>\n",
       "      <td>Female</td>\n",
       "      <td>11457</td>\n",
       "    </tr>\n",
       "    <tr>\n",
       "      <th>family_history_with_overweight</th>\n",
       "      <td>22845</td>\n",
       "      <td>2</td>\n",
       "      <td>yes</td>\n",
       "      <td>18736</td>\n",
       "    </tr>\n",
       "    <tr>\n",
       "      <th>FAVC</th>\n",
       "      <td>22845</td>\n",
       "      <td>2</td>\n",
       "      <td>yes</td>\n",
       "      <td>20826</td>\n",
       "    </tr>\n",
       "    <tr>\n",
       "      <th>CAEC</th>\n",
       "      <td>22845</td>\n",
       "      <td>4</td>\n",
       "      <td>Sometimes</td>\n",
       "      <td>19290</td>\n",
       "    </tr>\n",
       "    <tr>\n",
       "      <th>SMOKE</th>\n",
       "      <td>22845</td>\n",
       "      <td>2</td>\n",
       "      <td>no</td>\n",
       "      <td>22556</td>\n",
       "    </tr>\n",
       "    <tr>\n",
       "      <th>SCC</th>\n",
       "      <td>22845</td>\n",
       "      <td>2</td>\n",
       "      <td>no</td>\n",
       "      <td>22062</td>\n",
       "    </tr>\n",
       "    <tr>\n",
       "      <th>CALC</th>\n",
       "      <td>22845</td>\n",
       "      <td>4</td>\n",
       "      <td>Sometimes</td>\n",
       "      <td>16446</td>\n",
       "    </tr>\n",
       "    <tr>\n",
       "      <th>MTRANS</th>\n",
       "      <td>22845</td>\n",
       "      <td>5</td>\n",
       "      <td>Public_Transportation</td>\n",
       "      <td>18245</td>\n",
       "    </tr>\n",
       "    <tr>\n",
       "      <th>NObeyesdad</th>\n",
       "      <td>22845</td>\n",
       "      <td>7</td>\n",
       "      <td>Obesity_Type_III</td>\n",
       "      <td>4370</td>\n",
       "    </tr>\n",
       "  </tbody>\n",
       "</table>\n",
       "</div>"
      ],
      "text/plain": [
       "                                count unique                    top   freq\n",
       "Gender                          22845      2                 Female  11457\n",
       "family_history_with_overweight  22845      2                    yes  18736\n",
       "FAVC                            22845      2                    yes  20826\n",
       "CAEC                            22845      4              Sometimes  19290\n",
       "SMOKE                           22845      2                     no  22556\n",
       "SCC                             22845      2                     no  22062\n",
       "CALC                            22845      4              Sometimes  16446\n",
       "MTRANS                          22845      5  Public_Transportation  18245\n",
       "NObeyesdad                      22845      7       Obesity_Type_III   4370"
      ]
     },
     "metadata": {},
     "output_type": "display_data"
    },
    {
     "data": {
      "text/plain": [
       "Gender                            0\n",
       "Age                               0\n",
       "Height                            0\n",
       "Weight                            0\n",
       "family_history_with_overweight    0\n",
       "FAVC                              0\n",
       "FCVC                              0\n",
       "NCP                               0\n",
       "CAEC                              0\n",
       "SMOKE                             0\n",
       "CH2O                              0\n",
       "SCC                               0\n",
       "FAF                               0\n",
       "TUE                               0\n",
       "CALC                              0\n",
       "MTRANS                            0\n",
       "NObeyesdad                        0\n",
       "dtype: int64"
      ]
     },
     "metadata": {},
     "output_type": "display_data"
    }
   ],
   "source": [
    "train = pd.read_csv(\"/kaggle/input/playground-series-s4e2/train.csv\", index_col=\"id\")\n",
    "test = pd.read_csv(\"/kaggle/input/playground-series-s4e2/test.csv\", index_col=\"id\")\n",
    "obesity = pd.read_csv(\"/kaggle/input/obesity-or-cvd-risk-classifyregressorcluster/ObesityDataSet.csv\")\n",
    "\n",
    "train = pd.concat([train, obesity], axis=0)\n",
    "train = train.drop_duplicates()\n",
    "\n",
    "display(train.shape, train.head(), train.describe(include=[np.number]).T, train.describe(include=[object]).T, train.isna().sum())"
   ]
  },
  {
   "cell_type": "markdown",
   "id": "197a436a",
   "metadata": {
    "papermill": {
     "duration": 0.005421,
     "end_time": "2024-02-03T09:34:42.277612",
     "exception": false,
     "start_time": "2024-02-03T09:34:42.272191",
     "status": "completed"
    },
    "tags": []
   },
   "source": [
    "### Now we will preprocess our data as we have completed our first step which is Data loading ;)"
   ]
  },
  {
   "cell_type": "code",
   "execution_count": 4,
   "id": "e67770c5",
   "metadata": {
    "execution": {
     "iopub.execute_input": "2024-02-03T09:34:42.290014Z",
     "iopub.status.busy": "2024-02-03T09:34:42.289664Z",
     "iopub.status.idle": "2024-02-03T09:34:42.564526Z",
     "shell.execute_reply": "2024-02-03T09:34:42.563715Z"
    },
    "papermill": {
     "duration": 0.284,
     "end_time": "2024-02-03T09:34:42.567039",
     "exception": false,
     "start_time": "2024-02-03T09:34:42.283039",
     "status": "completed"
    },
    "tags": []
   },
   "outputs": [],
   "source": [
    "preprocess = ColumnTransformer([\n",
    "    (\"onehot\", OneHotEncoder(handle_unknown=\"ignore\"), make_column_selector(dtype_include=object)),\n",
    "    (\"scale\", StandardScaler(), make_column_selector(dtype_include=np.number)),\n",
    "])\n",
    "\n",
    "X_train, y_train = train.drop(\"NObeyesdad\", axis=1), train[\"NObeyesdad\"]\n",
    "\n",
    "preprocess.fit(pd.concat([X_train, test]))\n",
    "X_train = preprocess.transform(X_train)\n",
    "X_test = preprocess.transform(test)\n",
    "\n",
    "label_encoder = LabelEncoder()\n",
    "y_train = label_encoder.fit_transform(y_train)\n"
   ]
  },
  {
   "cell_type": "markdown",
   "id": "93ed9c73",
   "metadata": {
    "papermill": {
     "duration": 0.00565,
     "end_time": "2024-02-03T09:34:42.579554",
     "exception": false,
     "start_time": "2024-02-03T09:34:42.573904",
     "status": "completed"
    },
    "tags": []
   },
   "source": [
    "### Now after preprocessing our data we will move forward to train the model using XGBoost+Optuna "
   ]
  },
  {
   "cell_type": "markdown",
   "id": "e6cacc93",
   "metadata": {
    "papermill": {
     "duration": 0.005514,
     "end_time": "2024-02-03T09:34:42.590544",
     "exception": false,
     "start_time": "2024-02-03T09:34:42.585030",
     "status": "completed"
    },
    "tags": []
   },
   "source": [
    "#### We will use tqdm library to see the progress bar of how much model is trained"
   ]
  },
  {
   "cell_type": "code",
   "execution_count": 5,
   "id": "de3d5e88",
   "metadata": {
    "execution": {
     "iopub.execute_input": "2024-02-03T09:34:42.603348Z",
     "iopub.status.busy": "2024-02-03T09:34:42.602941Z",
     "iopub.status.idle": "2024-02-03T09:34:42.607695Z",
     "shell.execute_reply": "2024-02-03T09:34:42.606831Z"
    },
    "papermill": {
     "duration": 0.013742,
     "end_time": "2024-02-03T09:34:42.609766",
     "exception": false,
     "start_time": "2024-02-03T09:34:42.596024",
     "status": "completed"
    },
    "tags": []
   },
   "outputs": [],
   "source": [
    "import numpy as np\n",
    "from sklearn.model_selection import cross_val_score\n",
    "from xgboost import XGBClassifier\n",
    "import optuna\n",
    "from tqdm import tqdm"
   ]
  },
  {
   "cell_type": "code",
   "execution_count": 6,
   "id": "05ee5c16",
   "metadata": {
    "execution": {
     "iopub.execute_input": "2024-02-03T09:34:42.624371Z",
     "iopub.status.busy": "2024-02-03T09:34:42.624071Z",
     "iopub.status.idle": "2024-02-03T09:46:39.046338Z",
     "shell.execute_reply": "2024-02-03T09:46:39.045050Z"
    },
    "papermill": {
     "duration": 716.433317,
     "end_time": "2024-02-03T09:46:39.048829",
     "exception": false,
     "start_time": "2024-02-03T09:34:42.615512",
     "status": "completed"
    },
    "tags": []
   },
   "outputs": [
    {
     "name": "stderr",
     "output_type": "stream",
     "text": [
      "Training XGBoost:   0%|          | 0/5 [00:00<?, ?it/s]"
     ]
    },
    {
     "name": "stdout",
     "output_type": "stream",
     "text": [
      "Accuracy:  0.9151236594440796\n"
     ]
    },
    {
     "name": "stderr",
     "output_type": "stream",
     "text": [
      "Training XGBoost:  20%|██        | 1/5 [02:24<09:38, 144.72s/it]"
     ]
    },
    {
     "name": "stdout",
     "output_type": "stream",
     "text": [
      "Accuracy:  0.9151236594440796\n"
     ]
    },
    {
     "name": "stderr",
     "output_type": "stream",
     "text": [
      "Training XGBoost:  40%|████      | 2/5 [04:48<07:11, 143.89s/it]"
     ]
    },
    {
     "name": "stdout",
     "output_type": "stream",
     "text": [
      "Accuracy:  0.9151236594440796\n"
     ]
    },
    {
     "name": "stderr",
     "output_type": "stream",
     "text": [
      "Training XGBoost:  60%|██████    | 3/5 [07:10<04:46, 143.16s/it]"
     ]
    },
    {
     "name": "stdout",
     "output_type": "stream",
     "text": [
      "Accuracy:  0.9151236594440796\n"
     ]
    },
    {
     "name": "stderr",
     "output_type": "stream",
     "text": [
      "Training XGBoost:  80%|████████  | 4/5 [09:34<02:23, 143.40s/it]"
     ]
    },
    {
     "name": "stdout",
     "output_type": "stream",
     "text": [
      "Accuracy:  0.9151236594440796\n"
     ]
    },
    {
     "name": "stderr",
     "output_type": "stream",
     "text": [
      "Training XGBoost: 100%|██████████| 5/5 [11:56<00:00, 143.28s/it]\n"
     ]
    }
   ],
   "source": [
    "params = {\n",
    "    'n_estimators': 1312,\n",
    "    'learning_rate': 0.018279520260162645,\n",
    "    'gamma': 0.0024196354156454324,\n",
    "    'reg_alpha': 0.9025931173755949,\n",
    "    'reg_lambda': 0.06835667255875388,\n",
    "    'max_depth': 5,\n",
    "    'min_child_weight': 5,\n",
    "    'subsample': 0.883274050086088,\n",
    "    'colsample_bytree': 0.6579828557036317\n",
    "}\n",
    "\n",
    "xgb = XGBClassifier(random_state=42, **params)\n",
    "\n",
    "# Wrap the training loop with tqdm for progress bar\n",
    "for i in tqdm(range(5), desc=\"Training XGBoost\"):\n",
    "    score = cross_val_score(xgb, np.array(X_train), y_train, scoring='accuracy', cv=5, n_jobs=-1).mean()\n",
    "    print(\"Accuracy: \", score)\n",
    "\n",
    "    # Optionally fit the model at each iteration\n",
    "    xgb.fit(np.array(X_train), y_train)\n"
   ]
  },
  {
   "cell_type": "markdown",
   "id": "fa32a33a",
   "metadata": {
    "papermill": {
     "duration": 0.006619,
     "end_time": "2024-02-03T09:46:39.062566",
     "exception": false,
     "start_time": "2024-02-03T09:46:39.055947",
     "status": "completed"
    },
    "tags": []
   },
   "source": [
    "### Now we have trained the model now We would try to predict on test.csv"
   ]
  },
  {
   "cell_type": "code",
   "execution_count": 7,
   "id": "a47b962f",
   "metadata": {
    "execution": {
     "iopub.execute_input": "2024-02-03T09:46:39.077331Z",
     "iopub.status.busy": "2024-02-03T09:46:39.076936Z",
     "iopub.status.idle": "2024-02-03T09:46:40.172703Z",
     "shell.execute_reply": "2024-02-03T09:46:40.171624Z"
    },
    "papermill": {
     "duration": 1.106903,
     "end_time": "2024-02-03T09:46:40.175905",
     "exception": false,
     "start_time": "2024-02-03T09:46:39.069002",
     "status": "completed"
    },
    "tags": []
   },
   "outputs": [],
   "source": [
    "y_pred = xgb.predict(np.array(X_test))\n",
    "y_pred = label_encoder.inverse_transform(y_pred)\n",
    "\n",
    "submission = pd.DataFrame({\"id\": test.index, \"NObeyesdad\": y_pred})\n",
    "submission.to_csv(\"submission.csv\", index=False)"
   ]
  }
 ],
 "metadata": {
  "kaggle": {
   "accelerator": "none",
   "dataSources": [
    {
     "databundleVersionId": 7609535,
     "sourceId": 68479,
     "sourceType": "competition"
    },
    {
     "datasetId": 4030196,
     "sourceId": 7009925,
     "sourceType": "datasetVersion"
    }
   ],
   "isGpuEnabled": false,
   "isInternetEnabled": true,
   "language": "python",
   "sourceType": "notebook"
  },
  "kernelspec": {
   "display_name": "Python 3",
   "language": "python",
   "name": "python3"
  },
  "language_info": {
   "codemirror_mode": {
    "name": "ipython",
    "version": 3
   },
   "file_extension": ".py",
   "mimetype": "text/x-python",
   "name": "python",
   "nbconvert_exporter": "python",
   "pygments_lexer": "ipython3",
   "version": "3.10.13"
  },
  "papermill": {
   "default_parameters": {},
   "duration": 727.309054,
   "end_time": "2024-02-03T09:46:42.807777",
   "environment_variables": {},
   "exception": null,
   "input_path": "__notebook__.ipynb",
   "output_path": "__notebook__.ipynb",
   "parameters": {},
   "start_time": "2024-02-03T09:34:35.498723",
   "version": "2.5.0"
  }
 },
 "nbformat": 4,
 "nbformat_minor": 5
}
